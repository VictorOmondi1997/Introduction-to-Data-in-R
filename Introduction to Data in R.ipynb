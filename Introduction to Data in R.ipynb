{
 "cells": [
  {
   "cell_type": "markdown",
   "metadata": {},
   "source": [
    "# Overview\n",
    "\n",
    "Scientists seek to answer questions using rigorous methods and careful observations. These observations—collected from the likes of field notes, surveys, and experiments—form the backbone of a statistical investigation and are called data. Statistics is the study of how best to collect, analyze, and draw conclusions from data. It is helpful to put statistics in the context of a general process of investigation: \n",
    "1. identify a question or problem; \n",
    "2. collect relevant data on the topic; \n",
    "3. analyze the data; and \n",
    "4. form a conclusion. In this course, you'll focus on the first two steps of the process."
   ]
  },
  {
   "cell_type": "markdown",
   "metadata": {},
   "source": [
    "# Libraries"
   ]
  },
  {
   "cell_type": "code",
   "execution_count": 42,
   "metadata": {},
   "outputs": [
    {
     "name": "stderr",
     "output_type": "stream",
     "text": [
      "Warning message:\n",
      "\"package 'gapminder' was built under R version 3.6.3\""
     ]
    }
   ],
   "source": [
    "library(openintro)\n",
    "library(dplyr)\n",
    "library(ggplot2)\n",
    "library(gapminder)"
   ]
  },
  {
   "cell_type": "code",
   "execution_count": 41,
   "metadata": {},
   "outputs": [
    {
     "name": "stdout",
     "output_type": "stream",
     "text": [
      "package 'gapminder' successfully unpacked and MD5 sums checked\n",
      "\n",
      "The downloaded binary packages are in\n",
      "\tC:\\Users\\user\\AppData\\Local\\Temp\\Rtmpod8kgq\\downloaded_packages\n"
     ]
    }
   ],
   "source": [
    "install.packages(\"gapminder\")"
   ]
  },
  {
   "cell_type": "markdown",
   "metadata": {},
   "source": [
    "# Language of data\n",
    "\n",
    "Introduction to the terminology of datasets and data frames in R."
   ]
  },
  {
   "cell_type": "markdown",
   "metadata": {},
   "source": [
    "> ### High School and Beyond\n",
    "\n",
    "> ### Loading data"
   ]
  },
  {
   "cell_type": "code",
   "execution_count": 4,
   "metadata": {},
   "outputs": [],
   "source": [
    "data(hsb2)"
   ]
  },
  {
   "cell_type": "markdown",
   "metadata": {},
   "source": [
    "> ### Structure of data"
   ]
  },
  {
   "cell_type": "code",
   "execution_count": 5,
   "metadata": {},
   "outputs": [
    {
     "name": "stdout",
     "output_type": "stream",
     "text": [
      "tibble [200 x 11] (S3: tbl_df/tbl/data.frame)\n",
      " $ id     : int [1:200] 70 121 86 141 172 113 50 11 84 48 ...\n",
      " $ gender : chr [1:200] \"male\" \"female\" \"male\" \"male\" ...\n",
      " $ race   : chr [1:200] \"white\" \"white\" \"white\" \"white\" ...\n",
      " $ ses    : Factor w/ 3 levels \"low\",\"middle\",..: 1 2 3 3 2 2 2 2 2 2 ...\n",
      " $ schtyp : Factor w/ 2 levels \"public\",\"private\": 1 1 1 1 1 1 1 1 1 1 ...\n",
      " $ prog   : Factor w/ 3 levels \"general\",\"academic\",..: 1 3 1 3 2 2 1 2 1 2 ...\n",
      " $ read   : int [1:200] 57 68 44 63 47 44 50 34 63 57 ...\n",
      " $ write  : int [1:200] 52 59 33 44 52 52 59 46 57 55 ...\n",
      " $ math   : int [1:200] 41 53 54 47 57 51 42 45 54 52 ...\n",
      " $ science: int [1:200] 47 63 58 53 53 63 53 39 58 50 ...\n",
      " $ socst  : int [1:200] 57 61 31 56 61 61 61 36 51 51 ...\n"
     ]
    }
   ],
   "source": [
    "str(hsb2)"
   ]
  },
  {
   "cell_type": "markdown",
   "metadata": {},
   "source": [
    "> ### Glimpse of data"
   ]
  },
  {
   "cell_type": "code",
   "execution_count": 7,
   "metadata": {},
   "outputs": [
    {
     "name": "stdout",
     "output_type": "stream",
     "text": [
      "Rows: 200\n",
      "Columns: 11\n",
      "$ id      <int> 70, 121, 86, 141, 172, 113, 50, 11, 84, 48, 75, 60, 95, 104...\n",
      "$ gender  <chr> \"male\", \"female\", \"male\", \"male\", \"male\", \"male\", \"male\", \"...\n",
      "$ race    <chr> \"white\", \"white\", \"white\", \"white\", \"white\", \"white\", \"afri...\n",
      "$ ses     <fct> low, middle, high, high, middle, middle, middle, middle, mi...\n",
      "$ schtyp  <fct> public, public, public, public, public, public, public, pub...\n",
      "$ prog    <fct> general, vocational, general, vocational, academic, academi...\n",
      "$ read    <int> 57, 68, 44, 63, 47, 44, 50, 34, 63, 57, 60, 57, 73, 54, 45,...\n",
      "$ write   <int> 52, 59, 33, 44, 52, 52, 59, 46, 57, 55, 46, 65, 60, 63, 57,...\n",
      "$ math    <int> 41, 53, 54, 47, 57, 51, 42, 45, 54, 52, 51, 51, 71, 57, 50,...\n",
      "$ science <int> 47, 63, 58, 53, 53, 63, 53, 39, 58, 50, 53, 63, 61, 55, 31,...\n",
      "$ socst   <int> 57, 61, 31, 56, 61, 61, 61, 36, 51, 51, 61, 61, 71, 46, 56,...\n"
     ]
    }
   ],
   "source": [
    "glimpse(hsb2)"
   ]
  },
  {
   "cell_type": "markdown",
   "metadata": {},
   "source": [
    "### Loading data into R\n",
    "\n",
    "we'll practice on another dataset, `email50`, which contains a subset of incoming emails for the first three months of 2012 for a single email account. We'll examine the structure of this dataset and determine the number of rows (observations) and columns (variables)."
   ]
  },
  {
   "cell_type": "code",
   "execution_count": 8,
   "metadata": {},
   "outputs": [
    {
     "name": "stdout",
     "output_type": "stream",
     "text": [
      "tibble [50 x 21] (S3: tbl_df/tbl/data.frame)\n",
      " $ spam        : num [1:50] 0 0 1 0 0 0 0 0 0 0 ...\n",
      " $ to_multiple : num [1:50] 0 0 0 0 0 0 0 0 0 0 ...\n",
      " $ from        : num [1:50] 1 1 1 1 1 1 1 1 1 1 ...\n",
      " $ cc          : int [1:50] 0 0 4 0 0 0 0 0 1 0 ...\n",
      " $ sent_email  : num [1:50] 1 0 0 0 0 0 0 1 1 0 ...\n",
      " $ time        : POSIXct[1:50], format: \"2012-01-04 16:19:16\" \"2012-02-16 23:10:06\" ...\n",
      " $ image       : num [1:50] 0 0 0 0 0 0 0 0 0 0 ...\n",
      " $ attach      : num [1:50] 0 0 2 0 0 0 0 0 0 0 ...\n",
      " $ dollar      : num [1:50] 0 0 0 0 9 0 0 0 0 23 ...\n",
      " $ winner      : Factor w/ 2 levels \"no\",\"yes\": 1 1 1 1 1 1 1 1 1 1 ...\n",
      " $ inherit     : num [1:50] 0 0 0 0 0 0 0 0 0 0 ...\n",
      " $ viagra      : num [1:50] 0 0 0 0 0 0 0 0 0 0 ...\n",
      " $ password    : num [1:50] 0 0 0 0 1 0 0 0 0 0 ...\n",
      " $ num_char    : num [1:50] 21.705 7.011 0.631 2.454 41.623 ...\n",
      " $ line_breaks : int [1:50] 551 183 28 61 1088 5 17 88 242 578 ...\n",
      " $ format      : num [1:50] 1 1 0 0 1 0 0 1 1 1 ...\n",
      " $ re_subj     : num [1:50] 1 0 0 0 0 0 0 1 1 0 ...\n",
      " $ exclaim_subj: num [1:50] 0 0 0 0 0 0 0 0 1 0 ...\n",
      " $ urgent_subj : num [1:50] 0 0 0 0 0 0 0 0 0 0 ...\n",
      " $ exclaim_mess: num [1:50] 8 1 2 1 43 0 0 2 22 3 ...\n",
      " $ number      : Factor w/ 3 levels \"none\",\"small\",..: 2 3 1 2 2 2 2 2 2 2 ...\n"
     ]
    }
   ],
   "source": [
    "# Load data\n",
    "data(email50)\n",
    "\n",
    "# View the structure of the data\n",
    "str(email50)"
   ]
  },
  {
   "cell_type": "markdown",
   "metadata": {},
   "source": [
    "## Types of variables\n",
    "\n",
    "\n",
    "> ### Types of variables\n",
    "- **Numerical _(quantitative)_**: numerical values\n",
    "  - ***Continuous***: infinite number of values within a given range, often measured \n",
    "  - ***Discrete***: specific set of numeric values that can be counted or enumerated, often counted\n",
    "- **Categorical _(qualitative)_**: limited number of distinct categories\n",
    "  - _**Ordinal**_: finite number of values within a given range, often measured\n",
    "\n",
    "> ### Glimpse to identify variables"
   ]
  },
  {
   "cell_type": "code",
   "execution_count": 9,
   "metadata": {},
   "outputs": [
    {
     "name": "stdout",
     "output_type": "stream",
     "text": [
      "Rows: 200\n",
      "Columns: 11\n",
      "$ id      <int> 70, 121, 86, 141, 172, 113, 50, 11, 84, 48, 75, 60, 95, 104...\n",
      "$ gender  <chr> \"male\", \"female\", \"male\", \"male\", \"male\", \"male\", \"male\", \"...\n",
      "$ race    <chr> \"white\", \"white\", \"white\", \"white\", \"white\", \"white\", \"afri...\n",
      "$ ses     <fct> low, middle, high, high, middle, middle, middle, middle, mi...\n",
      "$ schtyp  <fct> public, public, public, public, public, public, public, pub...\n",
      "$ prog    <fct> general, vocational, general, vocational, academic, academi...\n",
      "$ read    <int> 57, 68, 44, 63, 47, 44, 50, 34, 63, 57, 60, 57, 73, 54, 45,...\n",
      "$ write   <int> 52, 59, 33, 44, 52, 52, 59, 46, 57, 55, 46, 65, 60, 63, 57,...\n",
      "$ math    <int> 41, 53, 54, 47, 57, 51, 42, 45, 54, 52, 51, 51, 71, 57, 50,...\n",
      "$ science <int> 47, 63, 58, 53, 53, 63, 53, 39, 58, 50, 53, 63, 61, 55, 31,...\n",
      "$ socst   <int> 57, 61, 31, 56, 61, 61, 61, 36, 51, 51, 61, 61, 71, 46, 56,...\n"
     ]
    }
   ],
   "source": [
    "glimpse(hsb2)"
   ]
  },
  {
   "cell_type": "markdown",
   "metadata": {},
   "source": [
    "### Identify variable types\n",
    "\n",
    "the `glimpse()` function from `dplyr` provides a handy alternative to `str()` for previewing a dataset. In addition to the number of observations and variables, it shows the name and type of each column, along with a neatly printed preview of its values."
   ]
  },
  {
   "cell_type": "markdown",
   "metadata": {},
   "source": [
    "Let's have another look at the `email50` data, so we can to identify variable types."
   ]
  },
  {
   "cell_type": "code",
   "execution_count": 10,
   "metadata": {},
   "outputs": [
    {
     "name": "stdout",
     "output_type": "stream",
     "text": [
      "Rows: 50\n",
      "Columns: 21\n",
      "$ spam         <dbl> 0, 0, 1, 0, 0, 0, 0, 0, 0, 0, 0, 0, 1, 1, 0, 0, 0, 1, ...\n",
      "$ to_multiple  <dbl> 0, 0, 0, 0, 0, 0, 0, 0, 0, 0, 0, 0, 0, 1, 0, 0, 0, 0, ...\n",
      "$ from         <dbl> 1, 1, 1, 1, 1, 1, 1, 1, 1, 1, 1, 1, 1, 1, 1, 1, 1, 1, ...\n",
      "$ cc           <int> 0, 0, 4, 0, 0, 0, 0, 0, 1, 0, 0, 0, 0, 0, 0, 0, 0, 0, ...\n",
      "$ sent_email   <dbl> 1, 0, 0, 0, 0, 0, 0, 1, 1, 0, 0, 0, 0, 0, 0, 1, 1, 0, ...\n",
      "$ time         <dttm> 2012-01-04 16:19:16, 2012-02-16 23:10:06, 2012-01-04 ...\n",
      "$ image        <dbl> 0, 0, 0, 0, 0, 0, 0, 0, 0, 0, 0, 0, 0, 0, 0, 0, 0, 0, ...\n",
      "$ attach       <dbl> 0, 0, 2, 0, 0, 0, 0, 0, 0, 0, 0, 0, 0, 2, 0, 0, 0, 1, ...\n",
      "$ dollar       <dbl> 0, 0, 0, 0, 9, 0, 0, 0, 0, 23, 4, 0, 3, 2, 0, 0, 0, 0,...\n",
      "$ winner       <fct> no, no, no, no, no, no, no, no, no, no, no, no, yes, n...\n",
      "$ inherit      <dbl> 0, 0, 0, 0, 0, 0, 0, 0, 0, 0, 0, 0, 0, 0, 0, 0, 0, 0, ...\n",
      "$ viagra       <dbl> 0, 0, 0, 0, 0, 0, 0, 0, 0, 0, 0, 0, 0, 0, 0, 0, 0, 0, ...\n",
      "$ password     <dbl> 0, 0, 0, 0, 1, 0, 0, 0, 0, 0, 0, 2, 0, 0, 0, 0, 0, 0, ...\n",
      "$ num_char     <dbl> 21.705, 7.011, 0.631, 2.454, 41.623, 0.057, 0.809, 5.2...\n",
      "$ line_breaks  <int> 551, 183, 28, 61, 1088, 5, 17, 88, 242, 578, 1167, 198...\n",
      "$ format       <dbl> 1, 1, 0, 0, 1, 0, 0, 1, 1, 1, 1, 1, 1, 0, 1, 1, 1, 0, ...\n",
      "$ re_subj      <dbl> 1, 0, 0, 0, 0, 0, 0, 1, 1, 0, 0, 0, 0, 0, 0, 1, 1, 0, ...\n",
      "$ exclaim_subj <dbl> 0, 0, 0, 0, 0, 0, 0, 0, 1, 0, 0, 0, 0, 0, 0, 0, 0, 0, ...\n",
      "$ urgent_subj  <dbl> 0, 0, 0, 0, 0, 0, 0, 0, 0, 0, 0, 0, 0, 0, 0, 0, 0, 0, ...\n",
      "$ exclaim_mess <dbl> 8, 1, 2, 1, 43, 0, 0, 2, 22, 3, 13, 1, 2, 2, 21, 10, 0...\n",
      "$ number       <fct> small, big, none, small, small, small, small, small, s...\n"
     ]
    }
   ],
   "source": [
    "# Glimpse email50\n",
    "glimpse(email50)"
   ]
  },
  {
   "cell_type": "markdown",
   "metadata": {},
   "source": [
    "## Categorical data in R: factors\n",
    "\n",
    "> ### Categorical data\n",
    "- Often stored as factors in R \n",
    "  - Important use: statistical modeling \n",
    "  - Sometimes undesirable, sometimes essential \n",
    "- Common in subgroup analysis \n",
    "  - Only interested in a subset of the data \n",
    "  - Filter for specific levels of categorical variable\n",
    "\n",
    "> ### Table to explore"
   ]
  },
  {
   "cell_type": "code",
   "execution_count": 13,
   "metadata": {},
   "outputs": [
    {
     "data": {
      "text/plain": [
       "\n",
       " public private \n",
       "    168      32 "
      ]
     },
     "metadata": {},
     "output_type": "display_data"
    }
   ],
   "source": [
    "# Number of students in public and private schools in hsb2 \n",
    "table(hsb2$schtyp)"
   ]
  },
  {
   "cell_type": "markdown",
   "metadata": {},
   "source": [
    "> ### Filter to subset"
   ]
  },
  {
   "cell_type": "code",
   "execution_count": 14,
   "metadata": {},
   "outputs": [
    {
     "data": {
      "text/html": [
       "<table>\n",
       "<thead><tr><th scope=col>id</th><th scope=col>gender</th><th scope=col>race</th><th scope=col>ses</th><th scope=col>schtyp</th><th scope=col>prog</th><th scope=col>read</th><th scope=col>write</th><th scope=col>math</th><th scope=col>science</th><th scope=col>socst</th></tr></thead>\n",
       "<tbody>\n",
       "\t<tr><td> 70       </td><td>male      </td><td>white     </td><td>low       </td><td>public    </td><td>general   </td><td>57        </td><td>52        </td><td>41        </td><td>47        </td><td>57        </td></tr>\n",
       "\t<tr><td>121       </td><td>female    </td><td>white     </td><td>middle    </td><td>public    </td><td>vocational</td><td>68        </td><td>59        </td><td>53        </td><td>63        </td><td>61        </td></tr>\n",
       "\t<tr><td> 86       </td><td>male      </td><td>white     </td><td>high      </td><td>public    </td><td>general   </td><td>44        </td><td>33        </td><td>54        </td><td>58        </td><td>31        </td></tr>\n",
       "\t<tr><td>141       </td><td>male      </td><td>white     </td><td>high      </td><td>public    </td><td>vocational</td><td>63        </td><td>44        </td><td>47        </td><td>53        </td><td>56        </td></tr>\n",
       "\t<tr><td>172       </td><td>male      </td><td>white     </td><td>middle    </td><td>public    </td><td>academic  </td><td>47        </td><td>52        </td><td>57        </td><td>53        </td><td>61        </td></tr>\n",
       "\t<tr><td>113       </td><td>male      </td><td>white     </td><td>middle    </td><td>public    </td><td>academic  </td><td>44        </td><td>52        </td><td>51        </td><td>63        </td><td>61        </td></tr>\n",
       "</tbody>\n",
       "</table>\n"
      ],
      "text/latex": [
       "\\begin{tabular}{r|lllllllllll}\n",
       " id & gender & race & ses & schtyp & prog & read & write & math & science & socst\\\\\n",
       "\\hline\n",
       "\t  70        & male       & white      & low        & public     & general    & 57         & 52         & 41         & 47         & 57        \\\\\n",
       "\t 121        & female     & white      & middle     & public     & vocational & 68         & 59         & 53         & 63         & 61        \\\\\n",
       "\t  86        & male       & white      & high       & public     & general    & 44         & 33         & 54         & 58         & 31        \\\\\n",
       "\t 141        & male       & white      & high       & public     & vocational & 63         & 44         & 47         & 53         & 56        \\\\\n",
       "\t 172        & male       & white      & middle     & public     & academic   & 47         & 52         & 57         & 53         & 61        \\\\\n",
       "\t 113        & male       & white      & middle     & public     & academic   & 44         & 52         & 51         & 63         & 61        \\\\\n",
       "\\end{tabular}\n"
      ],
      "text/markdown": [
       "\n",
       "| id | gender | race | ses | schtyp | prog | read | write | math | science | socst |\n",
       "|---|---|---|---|---|---|---|---|---|---|---|\n",
       "|  70        | male       | white      | low        | public     | general    | 57         | 52         | 41         | 47         | 57         |\n",
       "| 121        | female     | white      | middle     | public     | vocational | 68         | 59         | 53         | 63         | 61         |\n",
       "|  86        | male       | white      | high       | public     | general    | 44         | 33         | 54         | 58         | 31         |\n",
       "| 141        | male       | white      | high       | public     | vocational | 63         | 44         | 47         | 53         | 56         |\n",
       "| 172        | male       | white      | middle     | public     | academic   | 47         | 52         | 57         | 53         | 61         |\n",
       "| 113        | male       | white      | middle     | public     | academic   | 44         | 52         | 51         | 63         | 61         |\n",
       "\n"
      ],
      "text/plain": [
       "  id  gender race  ses    schtyp prog       read write math science socst\n",
       "1  70 male   white low    public general    57   52    41   47      57   \n",
       "2 121 female white middle public vocational 68   59    53   63      61   \n",
       "3  86 male   white high   public general    44   33    54   58      31   \n",
       "4 141 male   white high   public vocational 63   44    47   53      56   \n",
       "5 172 male   white middle public academic   47   52    57   53      61   \n",
       "6 113 male   white middle public academic   44   52    51   63      61   "
      ]
     },
     "metadata": {},
     "output_type": "display_data"
    }
   ],
   "source": [
    "# Filter for public schools\n",
    "hsb2_public <- hsb2 %>%\n",
    "    filter(schtyp==\"public\")\n",
    "head(hsb2_public)"
   ]
  },
  {
   "cell_type": "markdown",
   "metadata": {},
   "source": [
    "> ### The pipe operator\n",
    "$$\n",
    "\\%>\\%\n",
    "$$\n",
    "\n",
    "$$\n",
    "x \\%>\\% f(y)\n",
    "$$\n",
    "$$\n",
    "f(x, y)\n",
    "$$\n",
    "\n",
    "> ### A (very) simple pipe"
   ]
  },
  {
   "cell_type": "code",
   "execution_count": 15,
   "metadata": {},
   "outputs": [
    {
     "data": {
      "text/html": [
       "8"
      ],
      "text/latex": [
       "8"
      ],
      "text/markdown": [
       "8"
      ],
      "text/plain": [
       "[1] 8"
      ]
     },
     "metadata": {},
     "output_type": "display_data"
    }
   ],
   "source": [
    "sum(3,5)"
   ]
  },
  {
   "cell_type": "code",
   "execution_count": 16,
   "metadata": {},
   "outputs": [
    {
     "data": {
      "text/html": [
       "8"
      ],
      "text/latex": [
       "8"
      ],
      "text/markdown": [
       "8"
      ],
      "text/plain": [
       "[1] 8"
      ]
     },
     "metadata": {},
     "output_type": "display_data"
    }
   ],
   "source": [
    "3 %>% sum(5)"
   ]
  },
  {
   "cell_type": "markdown",
   "metadata": {},
   "source": [
    "> ### Drop (unused) levels"
   ]
  },
  {
   "cell_type": "code",
   "execution_count": 17,
   "metadata": {},
   "outputs": [
    {
     "data": {
      "text/plain": [
       "\n",
       " public private \n",
       "    168       0 "
      ]
     },
     "metadata": {},
     "output_type": "display_data"
    }
   ],
   "source": [
    "table(hsb2_public$schtyp)"
   ]
  },
  {
   "cell_type": "code",
   "execution_count": 18,
   "metadata": {},
   "outputs": [
    {
     "data": {
      "text/plain": [
       "\n",
       "public \n",
       "   168 "
      ]
     },
     "metadata": {},
     "output_type": "display_data"
    }
   ],
   "source": [
    "hsb2_public$schtyp <- droplevels(hsb2_public$schtyp)\n",
    "table(hsb2_public$schtyp)"
   ]
  },
  {
   "cell_type": "markdown",
   "metadata": {},
   "source": [
    "### Filtering based on a factor\n",
    "\n",
    "Categorical data are often stored as factors in R. we'll practice working with a factor variable, `number`, from the `email50` dataset. This variable tells us what type of number (none, small, or big) an email contains.\n",
    "\n",
    "`filter()` function from dplyr can be used to filter a dataset to create a subset containing only certain levels of a variable."
   ]
  },
  {
   "cell_type": "code",
   "execution_count": 19,
   "metadata": {},
   "outputs": [
    {
     "name": "stdout",
     "output_type": "stream",
     "text": [
      "Rows: 7\n",
      "Columns: 21\n",
      "$ spam         <dbl> 0, 0, 1, 0, 0, 0, 0\n",
      "$ to_multiple  <dbl> 0, 0, 0, 0, 0, 0, 0\n",
      "$ from         <dbl> 1, 1, 1, 1, 1, 1, 1\n",
      "$ cc           <int> 0, 0, 0, 0, 0, 0, 0\n",
      "$ sent_email   <dbl> 0, 0, 0, 0, 0, 1, 0\n",
      "$ time         <dttm> 2012-02-16 23:10:06, 2012-02-05 02:26:09, 2012-01-24 ...\n",
      "$ image        <dbl> 0, 0, 0, 0, 0, 0, 0\n",
      "$ attach       <dbl> 0, 0, 0, 0, 0, 0, 0\n",
      "$ dollar       <dbl> 0, 0, 3, 2, 0, 0, 0\n",
      "$ winner       <fct> no, no, yes, no, no, no, no\n",
      "$ inherit      <dbl> 0, 0, 0, 0, 0, 0, 0\n",
      "$ viagra       <dbl> 0, 0, 0, 0, 0, 0, 0\n",
      "$ password     <dbl> 0, 2, 0, 0, 0, 0, 8\n",
      "$ num_char     <dbl> 7.011, 10.368, 42.793, 26.520, 6.563, 11.223, 10.613\n",
      "$ line_breaks  <int> 183, 198, 712, 692, 140, 512, 225\n",
      "$ format       <dbl> 1, 1, 1, 1, 1, 1, 1\n",
      "$ re_subj      <dbl> 0, 0, 0, 0, 0, 0, 0\n",
      "$ exclaim_subj <dbl> 0, 0, 0, 1, 0, 0, 0\n",
      "$ urgent_subj  <dbl> 0, 0, 0, 0, 0, 0, 0\n",
      "$ exclaim_mess <dbl> 1, 1, 2, 7, 2, 9, 9\n",
      "$ number       <fct> big, big, big, big, big, big, big\n"
     ]
    }
   ],
   "source": [
    "# Subset of emails with big numbers: email50_big\n",
    "email50_big <- email50 %>%\n",
    "  filter(number==\"big\")\n",
    "\n",
    "# Glimpse the subset\n",
    "glimpse(email50_big)"
   ]
  },
  {
   "cell_type": "markdown",
   "metadata": {},
   "source": [
    "Seven emails contain big numbers."
   ]
  },
  {
   "cell_type": "markdown",
   "metadata": {},
   "source": [
    "### Complete filtering based on a factor\n",
    "\n",
    "The `droplevels()` function removes unused levels of factor variables from our dataset. it's often useful to determine which levels are unused (i.e. contain zero values) with the `table()` function. we'll see which levels of the number variable are dropped after applying the `droplevels()` function."
   ]
  },
  {
   "cell_type": "code",
   "execution_count": 20,
   "metadata": {},
   "outputs": [
    {
     "data": {
      "text/plain": [
       "\n",
       " none small   big \n",
       "    0     0     7 "
      ]
     },
     "metadata": {},
     "output_type": "display_data"
    }
   ],
   "source": [
    "# Table of the number variable\n",
    "table(email50_big$number)\n",
    "\n"
   ]
  },
  {
   "cell_type": "code",
   "execution_count": 21,
   "metadata": {},
   "outputs": [
    {
     "data": {
      "text/plain": [
       "\n",
       "big \n",
       "  7 "
      ]
     },
     "metadata": {},
     "output_type": "display_data"
    }
   ],
   "source": [
    "# Drop levels\n",
    "email50_big$number_dropped <- droplevels(email50_big$number)\n",
    "\n",
    "# Table of the number_dropped variable\n",
    "table(email50_big$number_dropped)"
   ]
  },
  {
   "cell_type": "markdown",
   "metadata": {},
   "source": [
    "dropping the levels of the number variable gets rid of the levels with counts of zero. This will be useful when we're creating visualizations later on. "
   ]
  },
  {
   "cell_type": "markdown",
   "metadata": {},
   "source": [
    "## Discretize a variable\n",
    "\n",
    "\n",
    "> ### Average reading score"
   ]
  },
  {
   "cell_type": "code",
   "execution_count": 22,
   "metadata": {},
   "outputs": [
    {
     "data": {
      "text/html": [
       "52.23"
      ],
      "text/latex": [
       "52.23"
      ],
      "text/markdown": [
       "52.23"
      ],
      "text/plain": [
       "[1] 52.23"
      ]
     },
     "metadata": {},
     "output_type": "display_data"
    }
   ],
   "source": [
    "(avg_read <- mean(hsb2$read))"
   ]
  },
  {
   "cell_type": "markdown",
   "metadata": {},
   "source": [
    "> ### New variable: read_cat"
   ]
  },
  {
   "cell_type": "code",
   "execution_count": 23,
   "metadata": {},
   "outputs": [],
   "source": [
    "hsb2 <- hsb2 %>%\n",
    "    mutate(read_cat = ifelse(read<avg_read, \"below average\", \"at or above average\"))"
   ]
  },
  {
   "cell_type": "code",
   "execution_count": 24,
   "metadata": {},
   "outputs": [
    {
     "data": {
      "text/html": [
       "<table>\n",
       "<thead><tr><th scope=col>id</th><th scope=col>gender</th><th scope=col>race</th><th scope=col>ses</th><th scope=col>schtyp</th><th scope=col>prog</th><th scope=col>read</th><th scope=col>write</th><th scope=col>math</th><th scope=col>science</th><th scope=col>socst</th><th scope=col>read_cat</th></tr></thead>\n",
       "<tbody>\n",
       "\t<tr><td> 70                </td><td>male               </td><td>white              </td><td>low                </td><td>public             </td><td>general            </td><td>57                 </td><td>52                 </td><td>41                 </td><td>47                 </td><td>57                 </td><td>at or above average</td></tr>\n",
       "\t<tr><td>121                </td><td>female             </td><td>white              </td><td>middle             </td><td>public             </td><td>vocational         </td><td>68                 </td><td>59                 </td><td>53                 </td><td>63                 </td><td>61                 </td><td>at or above average</td></tr>\n",
       "\t<tr><td> 86                </td><td>male               </td><td>white              </td><td>high               </td><td>public             </td><td>general            </td><td>44                 </td><td>33                 </td><td>54                 </td><td>58                 </td><td>31                 </td><td>below average      </td></tr>\n",
       "\t<tr><td>141                </td><td>male               </td><td>white              </td><td>high               </td><td>public             </td><td>vocational         </td><td>63                 </td><td>44                 </td><td>47                 </td><td>53                 </td><td>56                 </td><td>at or above average</td></tr>\n",
       "\t<tr><td>172                </td><td>male               </td><td>white              </td><td>middle             </td><td>public             </td><td>academic           </td><td>47                 </td><td>52                 </td><td>57                 </td><td>53                 </td><td>61                 </td><td>below average      </td></tr>\n",
       "\t<tr><td>113                </td><td>male               </td><td>white              </td><td>middle             </td><td>public             </td><td>academic           </td><td>44                 </td><td>52                 </td><td>51                 </td><td>63                 </td><td>61                 </td><td>below average      </td></tr>\n",
       "</tbody>\n",
       "</table>\n"
      ],
      "text/latex": [
       "\\begin{tabular}{r|llllllllllll}\n",
       " id & gender & race & ses & schtyp & prog & read & write & math & science & socst & read\\_cat\\\\\n",
       "\\hline\n",
       "\t  70                 & male                & white               & low                 & public              & general             & 57                  & 52                  & 41                  & 47                  & 57                  & at or above average\\\\\n",
       "\t 121                 & female              & white               & middle              & public              & vocational          & 68                  & 59                  & 53                  & 63                  & 61                  & at or above average\\\\\n",
       "\t  86                 & male                & white               & high                & public              & general             & 44                  & 33                  & 54                  & 58                  & 31                  & below average      \\\\\n",
       "\t 141                 & male                & white               & high                & public              & vocational          & 63                  & 44                  & 47                  & 53                  & 56                  & at or above average\\\\\n",
       "\t 172                 & male                & white               & middle              & public              & academic            & 47                  & 52                  & 57                  & 53                  & 61                  & below average      \\\\\n",
       "\t 113                 & male                & white               & middle              & public              & academic            & 44                  & 52                  & 51                  & 63                  & 61                  & below average      \\\\\n",
       "\\end{tabular}\n"
      ],
      "text/markdown": [
       "\n",
       "| id | gender | race | ses | schtyp | prog | read | write | math | science | socst | read_cat |\n",
       "|---|---|---|---|---|---|---|---|---|---|---|---|\n",
       "|  70                 | male                | white               | low                 | public              | general             | 57                  | 52                  | 41                  | 47                  | 57                  | at or above average |\n",
       "| 121                 | female              | white               | middle              | public              | vocational          | 68                  | 59                  | 53                  | 63                  | 61                  | at or above average |\n",
       "|  86                 | male                | white               | high                | public              | general             | 44                  | 33                  | 54                  | 58                  | 31                  | below average       |\n",
       "| 141                 | male                | white               | high                | public              | vocational          | 63                  | 44                  | 47                  | 53                  | 56                  | at or above average |\n",
       "| 172                 | male                | white               | middle              | public              | academic            | 47                  | 52                  | 57                  | 53                  | 61                  | below average       |\n",
       "| 113                 | male                | white               | middle              | public              | academic            | 44                  | 52                  | 51                  | 63                  | 61                  | below average       |\n",
       "\n"
      ],
      "text/plain": [
       "  id  gender race  ses    schtyp prog       read write math science socst\n",
       "1  70 male   white low    public general    57   52    41   47      57   \n",
       "2 121 female white middle public vocational 68   59    53   63      61   \n",
       "3  86 male   white high   public general    44   33    54   58      31   \n",
       "4 141 male   white high   public vocational 63   44    47   53      56   \n",
       "5 172 male   white middle public academic   47   52    57   53      61   \n",
       "6 113 male   white middle public academic   44   52    51   63      61   \n",
       "  read_cat           \n",
       "1 at or above average\n",
       "2 at or above average\n",
       "3 below average      \n",
       "4 at or above average\n",
       "5 below average      \n",
       "6 below average      "
      ]
     },
     "metadata": {},
     "output_type": "display_data"
    }
   ],
   "source": [
    "head(hsb2)"
   ]
  },
  {
   "cell_type": "markdown",
   "metadata": {},
   "source": [
    "### Discretize a different variable\n",
    "\n",
    "we'll create a categorical version of the `num_char` variable in the `email50` dataset. `num_char` is the number of characters in an email, in thousands. This new variable will have two levels (\"below median\" and \"at or above median\") depending on whether an email has less than the median number of characters or equal to or more than that value.\n",
    "\n",
    "The median marks the 50th percentile, or midpoint, of a distribution, so half of the emails should fall in one category and the other half in the other. You will learn more about the median and other measures of center in the next course in this series."
   ]
  },
  {
   "cell_type": "code",
   "execution_count": 25,
   "metadata": {},
   "outputs": [
    {
     "data": {
      "text/html": [
       "<table>\n",
       "<thead><tr><th scope=col>num_char_cat</th><th scope=col>n</th></tr></thead>\n",
       "<tbody>\n",
       "\t<tr><td>at or above median</td><td>25                </td></tr>\n",
       "\t<tr><td>below median      </td><td>25                </td></tr>\n",
       "</tbody>\n",
       "</table>\n"
      ],
      "text/latex": [
       "\\begin{tabular}{r|ll}\n",
       " num\\_char\\_cat & n\\\\\n",
       "\\hline\n",
       "\t at or above median & 25                \\\\\n",
       "\t below median       & 25                \\\\\n",
       "\\end{tabular}\n"
      ],
      "text/markdown": [
       "\n",
       "| num_char_cat | n |\n",
       "|---|---|\n",
       "| at or above median | 25                 |\n",
       "| below median       | 25                 |\n",
       "\n"
      ],
      "text/plain": [
       "  num_char_cat       n \n",
       "1 at or above median 25\n",
       "2 below median       25"
      ]
     },
     "metadata": {},
     "output_type": "display_data"
    }
   ],
   "source": [
    "# Calculate median number of characters: med_num_char\n",
    "med_num_char <- median(email50$num_char)\n",
    "\n",
    "# Create num_char_cat variable in email50\n",
    "email50_fortified <- email50 %>%\n",
    "  mutate(num_char_cat = ifelse(num_char < med_num_char, \"below median\", \"at or above median\"))\n",
    "  \n",
    "# Count emails in each category\n",
    "email50_fortified %>%\n",
    "  count(num_char_cat)"
   ]
  },
  {
   "cell_type": "markdown",
   "metadata": {},
   "source": [
    "half of the observations are below the median and half are above the median. Makes sense, doesn't it?"
   ]
  },
  {
   "cell_type": "markdown",
   "metadata": {},
   "source": [
    "### Combining levels of a different factor\n",
    "\n",
    "Another common way of creating a new variable based on an existing one is by _combining levels of a categorical variable_. For example, the `email50` dataset has a categorical variable called number with levels `\"none\"`, `\"small\"`, and `\"big\"`, but suppose we're only interested in whether an email contains a number. we will create a variable containing this information and also visualize it."
   ]
  },
  {
   "cell_type": "code",
   "execution_count": 29,
   "metadata": {},
   "outputs": [
    {
     "data": {
      "image/png": "[encoded data removed]",
      "text/plain": [
       "plot without title"
      ]
     },
     "metadata": {},
     "output_type": "display_data"
    }
   ],
   "source": [
    "# Create number_yn column in email50\n",
    "email50_fortified <- email50 %>%\n",
    "  mutate(\n",
    "    number_yn = case_when(\n",
    "      # if number is \"none\", make number_yn \"no\"\n",
    "      number==\"none\" ~ \"no\", \n",
    "      # if number is not \"none\", make number_yn \"yes\"\n",
    "      number != \"none\" ~ \"yes\"  \n",
    "    )\n",
    "  )\n",
    "  \n",
    "\n",
    "# Visualize the distribution of number_yn\n",
    "ggplot(email50_fortified, aes(x = number_yn)) +\n",
    "  geom_bar()"
   ]
  },
  {
   "cell_type": "markdown",
   "metadata": {},
   "source": [
    "## Visualizing numerical data\n",
    "\n",
    "> ### ggplot2\n",
    "- Modern looking, hassle-free plots \n",
    "- Easy to extend code for multivariate plots \n",
    "- Iterative construction\n",
    "\n",
    "> ### Math vs. science scores"
   ]
  },
  {
   "cell_type": "code",
   "execution_count": 37,
   "metadata": {},
   "outputs": [
    {
     "name": "stderr",
     "output_type": "stream",
     "text": [
      "`geom_smooth()` using formula 'y ~ x'\n"
     ]
    },
    {
     "data": {
      "image/png": "[encoded data removed]",
      "text/plain": [
       "plot without title"
      ]
     },
     "metadata": {},
     "output_type": "display_data"
    }
   ],
   "source": [
    "hsb2 %>%\n",
    "    ggplot(aes(x=science, y=math)) +\n",
    "    geom_point() +\n",
    "    geom_smooth(method=\"lm\", se=F)"
   ]
  },
  {
   "cell_type": "code",
   "execution_count": 36,
   "metadata": {},
   "outputs": [
    {
     "name": "stderr",
     "output_type": "stream",
     "text": [
      "`geom_smooth()` using formula 'y ~ x'\n"
     ]
    },
    {
     "data": {
      "image/png": "[encoded data removed]",
      "text/plain": [
       "plot without title"
      ]
     },
     "metadata": {},
     "output_type": "display_data"
    }
   ],
   "source": [
    "hsb2 %>%\n",
    "    ggplot(aes(x=science, y=math, color=prog)) +\n",
    "    geom_point() +\n",
    "    geom_smooth(method=\"lm\", se=F)"
   ]
  },
  {
   "cell_type": "markdown",
   "metadata": {},
   "source": [
    "### Visualizing numerical and categorical data\n",
    "\n",
    "we'll visualize the relationship between two numerical variables from the `email50` dataset, conditioned on whether or not the email was spam. This means that we will use an aspect of the plot (like color or shape) to identify the levels in the spam variable so that we can compare plotted values between them.\n",
    "\n",
    " in the `ggplot()` function, the first argument is the dataset, then we map the aesthetic features of the plot to variables in the dataset, and finally the `geom_*()` layer informs how data are represented on the plot. we will make a scatterplot by adding a `geom_point()` layer to the `ggplot()` call."
   ]
  },
  {
   "cell_type": "code",
   "execution_count": 38,
   "metadata": {},
   "outputs": [
    {
     "name": "stderr",
     "output_type": "stream",
     "text": [
      "`geom_smooth()` using formula 'y ~ x'\n"
     ]
    },
    {
     "data": {
      "image/png": "[encoded data removed]",
      "text/plain": [
       "plot without title"
      ]
     },
     "metadata": {},
     "output_type": "display_data"
    }
   ],
   "source": [
    "# Scatterplot of exclaim_mess vs. num_char\n",
    "ggplot(email50, aes(x = num_char, y = exclaim_mess, color = factor(spam))) +\n",
    "    geom_point() +\n",
    "    geom_smooth(method = \"lm\", se=F)"
   ]
  },
  {
   "cell_type": "markdown",
   "metadata": {},
   "source": [
    "# Study types and cautionary tales\n",
    "\n",
    "We will learn observational studies and experiments, scope of inference, and Simpson's paradox."
   ]
  },
  {
   "attachments": {},
   "cell_type": "markdown",
   "metadata": {},
   "source": [
    "## Observational studies and experiments\n",
    "\n",
    "> ### Types of studies\n",
    "- **Observational study**: \n",
    "  - Collect data in a way that does not directly interfere with how the data arise\n",
    "  - Only correlation can be inferred \n",
    "- Experiment: \n",
    "  - Randomly assign subjects to various treatments\n",
    "  - Causation can be inferred\n",
    "\n",
    "> ### Design a study\n",
    "- Screens at bedtime and a!ention span\n",
    "![image.png](datasets/association_causation.png)"
   ]
  },
  {
   "cell_type": "markdown",
   "metadata": {},
   "source": [
    "### Identify type of study: Countries\n",
    "\n",
    "let's take a look at data from a different study on country characteristics. we will First, load the data and view it, then identify the type of study. \n",
    "\n",
    "> Note: Remember, an experiment requires random assignment."
   ]
  },
  {
   "cell_type": "code",
   "execution_count": 43,
   "metadata": {},
   "outputs": [
    {
     "name": "stdout",
     "output_type": "stream",
     "text": [
      "Rows: 1,704\n",
      "Columns: 6\n",
      "$ country   <fct> Afghanistan, Afghanistan, Afghanistan, Afghanistan, Afgha...\n",
      "$ continent <fct> Asia, Asia, Asia, Asia, Asia, Asia, Asia, Asia, Asia, Asi...\n",
      "$ year      <int> 1952, 1957, 1962, 1967, 1972, 1977, 1982, 1987, 1992, 199...\n",
      "$ lifeExp   <dbl> 28.801, 30.332, 31.997, 34.020, 36.088, 38.438, 39.854, 4...\n",
      "$ pop       <int> 8425333, 9240934, 10267083, 11537966, 13079460, 14880372,...\n",
      "$ gdpPercap <dbl> 779.4453, 820.8530, 853.1007, 836.1971, 739.9811, 786.113...\n"
     ]
    }
   ],
   "source": [
    "# Load data\n",
    "data(gapminder)\n",
    "\n",
    "# Glimpse data\n",
    "glimpse(gapminder)\n",
    "\n",
    "# Identify type of study: observational or experimental\n",
    "type_of_study <- \"observational\""
   ]
  },
  {
   "cell_type": "markdown",
   "metadata": {},
   "source": [
    "Since there is no way to randomly assign countries to attributes, this is an observational study."
   ]
  },
  {
   "cell_type": "markdown",
   "metadata": {},
   "source": [
    "## Random sampling and random assignment\n",
    "\n",
    "> ### Random...\n",
    "- **Random sampling**: \n",
    "  - At selection of subjects from population \n",
    "  - Helps generalizability of results \n",
    "- **Random assignment**: \n",
    "  - At selection of subjects from population \n",
    "  - Helps infer causation from results\n",
    "\n",
    "> ### Scope of inference\n",
    "||Random assignment|No random assignment||\n",
    "|---|---|---|---|\n",
    "|**Random sampling**|Causal and generalizable|Not causal, but generalizable|**Generalizable**|\n",
    "|**No random sampling**|Causal, but not generalizable|Neither causal nor generalizable|**Not generalizable**|\n",
    "||**Causal**|**Not causal**||\n"
   ]
  },
  {
   "attachments": {},
   "cell_type": "markdown",
   "metadata": {},
   "source": [
    "## Simpson's paradox\n",
    "\n",
    "> ### Explanatory and response\n",
    "|x (explanatory)|y (response)|\n",
    "|---|---|\n",
    "|||\n",
    "|||\n",
    "|||\n",
    "|||\n",
    "|||\n",
    "\n",
    "> ### Multivariate relationships\n",
    "|$x_1$(explanatory)|$x_2$(explanatory)|$x_3$(explanatory)|y (response)|\n",
    "|---|---|\n",
    "|||\n",
    "|||\n",
    "|||\n",
    "|||\n",
    "|||\n",
    "\n",
    "> ### Multivariate relationships\n",
    "|calories (explanatory)|age (explanatory)|fitness (explanatory)|heart health (response)|\n",
    "|---|---|\n",
    "|||\n",
    "|||\n",
    "|||\n",
    "|||\n",
    "|||\n",
    "|||\n",
    "\n",
    "> ### Simpson’s paradox\n",
    "![image.png](datasets/simpsons-paradox.png)\n",
    "\n",
    "> ### Berkeley admission data\n",
    "||Admitted|Rejected|\n",
    "|--|---|---|\n",
    "|Male|1198|1493|\n",
    "|Female|557|1278|\n",
    "\n"
   ]
  },
  {
   "cell_type": "markdown",
   "metadata": {},
   "source": [
    "### Number of males and females admitted\n",
    "\n",
    "The goal is to determine the numbers of male and female applicants who got admitted and rejected. Specifically, we want to find out how many males are admitted and how many are rejected. And similarly we want to find how many females are admitted and how many are rejected."
   ]
  },
  {
   "cell_type": "code",
   "execution_count": 45,
   "metadata": {},
   "outputs": [],
   "source": [
    "download.file(\"https://assets.datacamp.com/production/repositories/539/datasets/312d8ff0bad2cd9d567adce0181435a99892c5f8/ucb_admit.RData\", \"datasets/ucb_admit.RData\")"
   ]
  },
  {
   "cell_type": "code",
   "execution_count": 48,
   "metadata": {},
   "outputs": [],
   "source": [
    "load(\"datasets/ucb_admit.RData\")"
   ]
  },
  {
   "cell_type": "code",
   "execution_count": 49,
   "metadata": {},
   "outputs": [
    {
     "data": {
      "text/html": [
       "<ol class=list-inline>\n",
       "\t<li>'avg_read'</li>\n",
       "\t<li>'email50'</li>\n",
       "\t<li>'email50_big'</li>\n",
       "\t<li>'email50_fortified'</li>\n",
       "\t<li>'gapminder'</li>\n",
       "\t<li>'hsb2'</li>\n",
       "\t<li>'hsb2_public'</li>\n",
       "\t<li>'med_num_char'</li>\n",
       "\t<li>'type_of_study'</li>\n",
       "\t<li>'ucb_admit'</li>\n",
       "</ol>\n"
      ],
      "text/latex": [
       "\\begin{enumerate*}\n",
       "\\item 'avg\\_read'\n",
       "\\item 'email50'\n",
       "\\item 'email50\\_big'\n",
       "\\item 'email50\\_fortified'\n",
       "\\item 'gapminder'\n",
       "\\item 'hsb2'\n",
       "\\item 'hsb2\\_public'\n",
       "\\item 'med\\_num\\_char'\n",
       "\\item 'type\\_of\\_study'\n",
       "\\item 'ucb\\_admit'\n",
       "\\end{enumerate*}\n"
      ],
      "text/markdown": [
       "1. 'avg_read'\n",
       "2. 'email50'\n",
       "3. 'email50_big'\n",
       "4. 'email50_fortified'\n",
       "5. 'gapminder'\n",
       "6. 'hsb2'\n",
       "7. 'hsb2_public'\n",
       "8. 'med_num_char'\n",
       "9. 'type_of_study'\n",
       "10. 'ucb_admit'\n",
       "\n",
       "\n"
      ],
      "text/plain": [
       " [1] \"avg_read\"          \"email50\"           \"email50_big\"      \n",
       " [4] \"email50_fortified\" \"gapminder\"         \"hsb2\"             \n",
       " [7] \"hsb2_public\"       \"med_num_char\"      \"type_of_study\"    \n",
       "[10] \"ucb_admit\"        "
      ]
     },
     "metadata": {},
     "output_type": "display_data"
    }
   ],
   "source": [
    "ls()"
   ]
  },
  {
   "cell_type": "code",
   "execution_count": 50,
   "metadata": {},
   "outputs": [
    {
     "data": {
      "text/html": [
       "<table>\n",
       "<thead><tr><th scope=col>Admit</th><th scope=col>Gender</th><th scope=col>Dept</th></tr></thead>\n",
       "<tbody>\n",
       "\t<tr><td>Admitted</td><td>Male    </td><td>A       </td></tr>\n",
       "\t<tr><td>Admitted</td><td>Male    </td><td>A       </td></tr>\n",
       "\t<tr><td>Admitted</td><td>Male    </td><td>A       </td></tr>\n",
       "\t<tr><td>Admitted</td><td>Male    </td><td>A       </td></tr>\n",
       "\t<tr><td>Admitted</td><td>Male    </td><td>A       </td></tr>\n",
       "\t<tr><td>Admitted</td><td>Male    </td><td>A       </td></tr>\n",
       "</tbody>\n",
       "</table>\n"
      ],
      "text/latex": [
       "\\begin{tabular}{r|lll}\n",
       " Admit & Gender & Dept\\\\\n",
       "\\hline\n",
       "\t Admitted & Male     & A       \\\\\n",
       "\t Admitted & Male     & A       \\\\\n",
       "\t Admitted & Male     & A       \\\\\n",
       "\t Admitted & Male     & A       \\\\\n",
       "\t Admitted & Male     & A       \\\\\n",
       "\t Admitted & Male     & A       \\\\\n",
       "\\end{tabular}\n"
      ],
      "text/markdown": [
       "\n",
       "| Admit | Gender | Dept |\n",
       "|---|---|---|\n",
       "| Admitted | Male     | A        |\n",
       "| Admitted | Male     | A        |\n",
       "| Admitted | Male     | A        |\n",
       "| Admitted | Male     | A        |\n",
       "| Admitted | Male     | A        |\n",
       "| Admitted | Male     | A        |\n",
       "\n"
      ],
      "text/plain": [
       "  Admit    Gender Dept\n",
       "1 Admitted Male   A   \n",
       "2 Admitted Male   A   \n",
       "3 Admitted Male   A   \n",
       "4 Admitted Male   A   \n",
       "5 Admitted Male   A   \n",
       "6 Admitted Male   A   "
      ]
     },
     "metadata": {},
     "output_type": "display_data"
    }
   ],
   "source": [
    "head(ucb_admit)"
   ]
  },
  {
   "cell_type": "code",
   "execution_count": 53,
   "metadata": {},
   "outputs": [
    {
     "data": {
      "text/html": [
       "<table>\n",
       "<thead><tr><th scope=col>Gender</th><th scope=col>Admit</th><th scope=col>n</th></tr></thead>\n",
       "<tbody>\n",
       "\t<tr><td>Male    </td><td>Admitted</td><td>1198    </td></tr>\n",
       "\t<tr><td>Male    </td><td>Rejected</td><td>1493    </td></tr>\n",
       "\t<tr><td>Female  </td><td>Admitted</td><td> 557    </td></tr>\n",
       "\t<tr><td>Female  </td><td>Rejected</td><td>1278    </td></tr>\n",
       "</tbody>\n",
       "</table>\n"
      ],
      "text/latex": [
       "\\begin{tabular}{r|lll}\n",
       " Gender & Admit & n\\\\\n",
       "\\hline\n",
       "\t Male     & Admitted & 1198    \\\\\n",
       "\t Male     & Rejected & 1493    \\\\\n",
       "\t Female   & Admitted &  557    \\\\\n",
       "\t Female   & Rejected & 1278    \\\\\n",
       "\\end{tabular}\n"
      ],
      "text/markdown": [
       "\n",
       "| Gender | Admit | n |\n",
       "|---|---|---|\n",
       "| Male     | Admitted | 1198     |\n",
       "| Male     | Rejected | 1493     |\n",
       "| Female   | Admitted |  557     |\n",
       "| Female   | Rejected | 1278     |\n",
       "\n"
      ],
      "text/plain": [
       "  Gender Admit    n   \n",
       "1 Male   Admitted 1198\n",
       "2 Male   Rejected 1493\n",
       "3 Female Admitted  557\n",
       "4 Female Rejected 1278"
      ]
     },
     "metadata": {},
     "output_type": "display_data"
    }
   ],
   "source": [
    "# Count number of male and female applicants admitted\n",
    "(ucb_admission_counts<-ucb_admit %>%\n",
    "  count(Gender, Admit))"
   ]
  },
  {
   "cell_type": "markdown",
   "metadata": {},
   "source": [
    "Passing several arguments to `count()` gives you the number of rows for each combination of those arguments."
   ]
  },
  {
   "cell_type": "markdown",
   "metadata": {},
   "source": [
    "### Proportion of males admitted overall\n",
    "\n",
    "we'll calculate the percentage of males and percentage of females admitted, by creating a new variable, called `prop` (short for proportion) based off of the counts calculated in the previous exercise and using the `mutate()` from the dplyr package.\n",
    "\n",
    "Proportions for each row of the data frame can be calculated as `n / sum(n)`. Note that since the data are grouped by gender, `sum(n)` will be calculated for males and females separately."
   ]
  },
  {
   "cell_type": "code",
   "execution_count": 54,
   "metadata": {},
   "outputs": [
    {
     "data": {
      "text/html": [
       "<table>\n",
       "<thead><tr><th scope=col>Gender</th><th scope=col>Admit</th><th scope=col>n</th><th scope=col>prop</th></tr></thead>\n",
       "<tbody>\n",
       "\t<tr><td>Male     </td><td>Admitted </td><td>1198     </td><td>0.4451877</td></tr>\n",
       "\t<tr><td>Female   </td><td>Admitted </td><td> 557     </td><td>0.3035422</td></tr>\n",
       "</tbody>\n",
       "</table>\n"
      ],
      "text/latex": [
       "\\begin{tabular}{r|llll}\n",
       " Gender & Admit & n & prop\\\\\n",
       "\\hline\n",
       "\t Male      & Admitted  & 1198      & 0.4451877\\\\\n",
       "\t Female    & Admitted  &  557      & 0.3035422\\\\\n",
       "\\end{tabular}\n"
      ],
      "text/markdown": [
       "\n",
       "| Gender | Admit | n | prop |\n",
       "|---|---|---|---|\n",
       "| Male      | Admitted  | 1198      | 0.4451877 |\n",
       "| Female    | Admitted  |  557      | 0.3035422 |\n",
       "\n"
      ],
      "text/plain": [
       "  Gender Admit    n    prop     \n",
       "1 Male   Admitted 1198 0.4451877\n",
       "2 Female Admitted  557 0.3035422"
      ]
     },
     "metadata": {},
     "output_type": "display_data"
    }
   ],
   "source": [
    "ucb_admission_counts %>%\n",
    "  # Group by gender\n",
    "  group_by(Gender) %>%\n",
    "  # Create new variable\n",
    "  mutate(prop = n / sum(n)) %>%\n",
    "  # Filter for admitted\n",
    "  filter(Admit == \"Admitted\")"
   ]
  },
  {
   "cell_type": "markdown",
   "metadata": {},
   "source": [
    "It looks like 44% of males were admitted versus only 30% of females"
   ]
  },
  {
   "cell_type": "markdown",
   "metadata": {},
   "source": [
    "### Proportion of males admitted for each department\n",
    "\n",
    "we'll make a table groupped by department. The goal is to compare the proportions of male admitted students across departments."
   ]
  },
  {
   "cell_type": "code",
   "execution_count": 55,
   "metadata": {},
   "outputs": [
    {
     "data": {
      "text/html": [
       "<table>\n",
       "<thead><tr><th scope=col>Dept</th><th scope=col>Gender</th><th scope=col>Admit</th><th scope=col>n</th></tr></thead>\n",
       "<tbody>\n",
       "\t<tr><td>A       </td><td>Male    </td><td>Admitted</td><td>512     </td></tr>\n",
       "\t<tr><td>A       </td><td>Male    </td><td>Rejected</td><td>313     </td></tr>\n",
       "\t<tr><td>A       </td><td>Female  </td><td>Admitted</td><td> 89     </td></tr>\n",
       "\t<tr><td>A       </td><td>Female  </td><td>Rejected</td><td> 19     </td></tr>\n",
       "\t<tr><td>B       </td><td>Male    </td><td>Admitted</td><td>353     </td></tr>\n",
       "\t<tr><td>B       </td><td>Male    </td><td>Rejected</td><td>207     </td></tr>\n",
       "\t<tr><td>B       </td><td>Female  </td><td>Admitted</td><td> 17     </td></tr>\n",
       "\t<tr><td>B       </td><td>Female  </td><td>Rejected</td><td>  8     </td></tr>\n",
       "\t<tr><td>C       </td><td>Male    </td><td>Admitted</td><td>120     </td></tr>\n",
       "\t<tr><td>C       </td><td>Male    </td><td>Rejected</td><td>205     </td></tr>\n",
       "\t<tr><td>C       </td><td>Female  </td><td>Admitted</td><td>202     </td></tr>\n",
       "\t<tr><td>C       </td><td>Female  </td><td>Rejected</td><td>391     </td></tr>\n",
       "\t<tr><td>D       </td><td>Male    </td><td>Admitted</td><td>138     </td></tr>\n",
       "\t<tr><td>D       </td><td>Male    </td><td>Rejected</td><td>279     </td></tr>\n",
       "\t<tr><td>D       </td><td>Female  </td><td>Admitted</td><td>131     </td></tr>\n",
       "\t<tr><td>D       </td><td>Female  </td><td>Rejected</td><td>244     </td></tr>\n",
       "\t<tr><td>E       </td><td>Male    </td><td>Admitted</td><td> 53     </td></tr>\n",
       "\t<tr><td>E       </td><td>Male    </td><td>Rejected</td><td>138     </td></tr>\n",
       "\t<tr><td>E       </td><td>Female  </td><td>Admitted</td><td> 94     </td></tr>\n",
       "\t<tr><td>E       </td><td>Female  </td><td>Rejected</td><td>299     </td></tr>\n",
       "\t<tr><td>F       </td><td>Male    </td><td>Admitted</td><td> 22     </td></tr>\n",
       "\t<tr><td>F       </td><td>Male    </td><td>Rejected</td><td>351     </td></tr>\n",
       "\t<tr><td>F       </td><td>Female  </td><td>Admitted</td><td> 24     </td></tr>\n",
       "\t<tr><td>F       </td><td>Female  </td><td>Rejected</td><td>317     </td></tr>\n",
       "</tbody>\n",
       "</table>\n"
      ],
      "text/latex": [
       "\\begin{tabular}{r|llll}\n",
       " Dept & Gender & Admit & n\\\\\n",
       "\\hline\n",
       "\t A        & Male     & Admitted & 512     \\\\\n",
       "\t A        & Male     & Rejected & 313     \\\\\n",
       "\t A        & Female   & Admitted &  89     \\\\\n",
       "\t A        & Female   & Rejected &  19     \\\\\n",
       "\t B        & Male     & Admitted & 353     \\\\\n",
       "\t B        & Male     & Rejected & 207     \\\\\n",
       "\t B        & Female   & Admitted &  17     \\\\\n",
       "\t B        & Female   & Rejected &   8     \\\\\n",
       "\t C        & Male     & Admitted & 120     \\\\\n",
       "\t C        & Male     & Rejected & 205     \\\\\n",
       "\t C        & Female   & Admitted & 202     \\\\\n",
       "\t C        & Female   & Rejected & 391     \\\\\n",
       "\t D        & Male     & Admitted & 138     \\\\\n",
       "\t D        & Male     & Rejected & 279     \\\\\n",
       "\t D        & Female   & Admitted & 131     \\\\\n",
       "\t D        & Female   & Rejected & 244     \\\\\n",
       "\t E        & Male     & Admitted &  53     \\\\\n",
       "\t E        & Male     & Rejected & 138     \\\\\n",
       "\t E        & Female   & Admitted &  94     \\\\\n",
       "\t E        & Female   & Rejected & 299     \\\\\n",
       "\t F        & Male     & Admitted &  22     \\\\\n",
       "\t F        & Male     & Rejected & 351     \\\\\n",
       "\t F        & Female   & Admitted &  24     \\\\\n",
       "\t F        & Female   & Rejected & 317     \\\\\n",
       "\\end{tabular}\n"
      ],
      "text/markdown": [
       "\n",
       "| Dept | Gender | Admit | n |\n",
       "|---|---|---|---|\n",
       "| A        | Male     | Admitted | 512      |\n",
       "| A        | Male     | Rejected | 313      |\n",
       "| A        | Female   | Admitted |  89      |\n",
       "| A        | Female   | Rejected |  19      |\n",
       "| B        | Male     | Admitted | 353      |\n",
       "| B        | Male     | Rejected | 207      |\n",
       "| B        | Female   | Admitted |  17      |\n",
       "| B        | Female   | Rejected |   8      |\n",
       "| C        | Male     | Admitted | 120      |\n",
       "| C        | Male     | Rejected | 205      |\n",
       "| C        | Female   | Admitted | 202      |\n",
       "| C        | Female   | Rejected | 391      |\n",
       "| D        | Male     | Admitted | 138      |\n",
       "| D        | Male     | Rejected | 279      |\n",
       "| D        | Female   | Admitted | 131      |\n",
       "| D        | Female   | Rejected | 244      |\n",
       "| E        | Male     | Admitted |  53      |\n",
       "| E        | Male     | Rejected | 138      |\n",
       "| E        | Female   | Admitted |  94      |\n",
       "| E        | Female   | Rejected | 299      |\n",
       "| F        | Male     | Admitted |  22      |\n",
       "| F        | Male     | Rejected | 351      |\n",
       "| F        | Female   | Admitted |  24      |\n",
       "| F        | Female   | Rejected | 317      |\n",
       "\n"
      ],
      "text/plain": [
       "   Dept Gender Admit    n  \n",
       "1  A    Male   Admitted 512\n",
       "2  A    Male   Rejected 313\n",
       "3  A    Female Admitted  89\n",
       "4  A    Female Rejected  19\n",
       "5  B    Male   Admitted 353\n",
       "6  B    Male   Rejected 207\n",
       "7  B    Female Admitted  17\n",
       "8  B    Female Rejected   8\n",
       "9  C    Male   Admitted 120\n",
       "10 C    Male   Rejected 205\n",
       "11 C    Female Admitted 202\n",
       "12 C    Female Rejected 391\n",
       "13 D    Male   Admitted 138\n",
       "14 D    Male   Rejected 279\n",
       "15 D    Female Admitted 131\n",
       "16 D    Female Rejected 244\n",
       "17 E    Male   Admitted  53\n",
       "18 E    Male   Rejected 138\n",
       "19 E    Female Admitted  94\n",
       "20 E    Female Rejected 299\n",
       "21 F    Male   Admitted  22\n",
       "22 F    Male   Rejected 351\n",
       "23 F    Female Admitted  24\n",
       "24 F    Female Rejected 317"
      ]
     },
     "metadata": {},
     "output_type": "display_data"
    }
   ],
   "source": [
    "ucb_admission_counts <- ucb_admit %>%\n",
    "  # Counts by department, then gender, then admission status\n",
    "  count(Dept, Gender, Admit)\n",
    "\n",
    "# See the result\n",
    "ucb_admission_counts"
   ]
  },
  {
   "cell_type": "code",
   "execution_count": 57,
   "metadata": {},
   "outputs": [
    {
     "data": {
      "text/html": [
       "<table>\n",
       "<thead><tr><th scope=col>Dept</th><th scope=col>Gender</th><th scope=col>Admit</th><th scope=col>n</th><th scope=col>prop</th></tr></thead>\n",
       "<tbody>\n",
       "\t<tr><td>A         </td><td>Male      </td><td>Admitted  </td><td>512       </td><td>0.62060606</td></tr>\n",
       "\t<tr><td>B         </td><td>Male      </td><td>Admitted  </td><td>353       </td><td>0.63035714</td></tr>\n",
       "\t<tr><td>C         </td><td>Male      </td><td>Admitted  </td><td>120       </td><td>0.36923077</td></tr>\n",
       "\t<tr><td>D         </td><td>Male      </td><td>Admitted  </td><td>138       </td><td>0.33093525</td></tr>\n",
       "\t<tr><td>E         </td><td>Male      </td><td>Admitted  </td><td> 53       </td><td>0.27748691</td></tr>\n",
       "\t<tr><td>F         </td><td>Male      </td><td>Admitted  </td><td> 22       </td><td>0.05898123</td></tr>\n",
       "</tbody>\n",
       "</table>\n"
      ],
      "text/latex": [
       "\\begin{tabular}{r|lllll}\n",
       " Dept & Gender & Admit & n & prop\\\\\n",
       "\\hline\n",
       "\t A          & Male       & Admitted   & 512        & 0.62060606\\\\\n",
       "\t B          & Male       & Admitted   & 353        & 0.63035714\\\\\n",
       "\t C          & Male       & Admitted   & 120        & 0.36923077\\\\\n",
       "\t D          & Male       & Admitted   & 138        & 0.33093525\\\\\n",
       "\t E          & Male       & Admitted   &  53        & 0.27748691\\\\\n",
       "\t F          & Male       & Admitted   &  22        & 0.05898123\\\\\n",
       "\\end{tabular}\n"
      ],
      "text/markdown": [
       "\n",
       "| Dept | Gender | Admit | n | prop |\n",
       "|---|---|---|---|---|\n",
       "| A          | Male       | Admitted   | 512        | 0.62060606 |\n",
       "| B          | Male       | Admitted   | 353        | 0.63035714 |\n",
       "| C          | Male       | Admitted   | 120        | 0.36923077 |\n",
       "| D          | Male       | Admitted   | 138        | 0.33093525 |\n",
       "| E          | Male       | Admitted   |  53        | 0.27748691 |\n",
       "| F          | Male       | Admitted   |  22        | 0.05898123 |\n",
       "\n"
      ],
      "text/plain": [
       "  Dept Gender Admit    n   prop      \n",
       "1 A    Male   Admitted 512 0.62060606\n",
       "2 B    Male   Admitted 353 0.63035714\n",
       "3 C    Male   Admitted 120 0.36923077\n",
       "4 D    Male   Admitted 138 0.33093525\n",
       "5 E    Male   Admitted  53 0.27748691\n",
       "6 F    Male   Admitted  22 0.05898123"
      ]
     },
     "metadata": {},
     "output_type": "display_data"
    }
   ],
   "source": [
    "(perc_admit_by_dept<-ucb_admission_counts  %>%\n",
    "  # Group by department, then gender\n",
    "  group_by(Dept, Gender) %>%\n",
    "  # Create new variable\n",
    "  mutate(prop = n/sum(n)) %>%\n",
    "  # Filter for male and admitted\n",
    "  filter(Gender==\"Male\", Admit==\"Admitted\"))"
   ]
  },
  {
   "cell_type": "markdown",
   "metadata": {},
   "source": [
    "The proportion of males admitted varies wildly between departments."
   ]
  },
  {
   "cell_type": "markdown",
   "metadata": {},
   "source": [
    "Within most departments, female applicants are more likely to be admitted."
   ]
  },
  {
   "cell_type": "markdown",
   "metadata": {},
   "source": [
    "## Recap: Simpson's paradox\n",
    "\n",
    "> ### Simpson’s paradox\n",
    "- Overall: males more likely to be admitted \n",
    "- Within most departments: females more likely \n",
    "- When controlling for department, relationship between gender and admission status is reversed\n",
    "- Potential reason:  \n",
    "  - Women tended to apply to competitive departments with low admission rates \n",
    "  - Men tended to apply to less competitive departments with high admission rates"
   ]
  },
  {
   "cell_type": "markdown",
   "metadata": {},
   "source": [
    "### Identify type of study: Countries [new]"
   ]
  },
  {
   "cell_type": "code",
   "execution_count": 58,
   "metadata": {},
   "outputs": [
    {
     "data": {
      "text/html": [
       "<table>\n",
       "<thead><tr><th scope=col>country</th><th scope=col>continent</th><th scope=col>year</th><th scope=col>lifeExp</th><th scope=col>pop</th><th scope=col>gdpPercap</th></tr></thead>\n",
       "<tbody>\n",
       "\t<tr><td>Afghanistan</td><td>Asia       </td><td>1952       </td><td>28.801     </td><td> 8425333   </td><td>779.4453   </td></tr>\n",
       "\t<tr><td>Afghanistan</td><td>Asia       </td><td>1957       </td><td>30.332     </td><td> 9240934   </td><td>820.8530   </td></tr>\n",
       "\t<tr><td>Afghanistan</td><td>Asia       </td><td>1962       </td><td>31.997     </td><td>10267083   </td><td>853.1007   </td></tr>\n",
       "\t<tr><td>Afghanistan</td><td>Asia       </td><td>1967       </td><td>34.020     </td><td>11537966   </td><td>836.1971   </td></tr>\n",
       "\t<tr><td>Afghanistan</td><td>Asia       </td><td>1972       </td><td>36.088     </td><td>13079460   </td><td>739.9811   </td></tr>\n",
       "\t<tr><td>Afghanistan</td><td>Asia       </td><td>1977       </td><td>38.438     </td><td>14880372   </td><td>786.1134   </td></tr>\n",
       "</tbody>\n",
       "</table>\n"
      ],
      "text/latex": [
       "\\begin{tabular}{r|llllll}\n",
       " country & continent & year & lifeExp & pop & gdpPercap\\\\\n",
       "\\hline\n",
       "\t Afghanistan & Asia        & 1952        & 28.801      &  8425333    & 779.4453   \\\\\n",
       "\t Afghanistan & Asia        & 1957        & 30.332      &  9240934    & 820.8530   \\\\\n",
       "\t Afghanistan & Asia        & 1962        & 31.997      & 10267083    & 853.1007   \\\\\n",
       "\t Afghanistan & Asia        & 1967        & 34.020      & 11537966    & 836.1971   \\\\\n",
       "\t Afghanistan & Asia        & 1972        & 36.088      & 13079460    & 739.9811   \\\\\n",
       "\t Afghanistan & Asia        & 1977        & 38.438      & 14880372    & 786.1134   \\\\\n",
       "\\end{tabular}\n"
      ],
      "text/markdown": [
       "\n",
       "| country | continent | year | lifeExp | pop | gdpPercap |\n",
       "|---|---|---|---|---|---|\n",
       "| Afghanistan | Asia        | 1952        | 28.801      |  8425333    | 779.4453    |\n",
       "| Afghanistan | Asia        | 1957        | 30.332      |  9240934    | 820.8530    |\n",
       "| Afghanistan | Asia        | 1962        | 31.997      | 10267083    | 853.1007    |\n",
       "| Afghanistan | Asia        | 1967        | 34.020      | 11537966    | 836.1971    |\n",
       "| Afghanistan | Asia        | 1972        | 36.088      | 13079460    | 739.9811    |\n",
       "| Afghanistan | Asia        | 1977        | 38.438      | 14880372    | 786.1134    |\n",
       "\n"
      ],
      "text/plain": [
       "  country     continent year lifeExp pop      gdpPercap\n",
       "1 Afghanistan Asia      1952 28.801   8425333 779.4453 \n",
       "2 Afghanistan Asia      1957 30.332   9240934 820.8530 \n",
       "3 Afghanistan Asia      1962 31.997  10267083 853.1007 \n",
       "4 Afghanistan Asia      1967 34.020  11537966 836.1971 \n",
       "5 Afghanistan Asia      1972 36.088  13079460 739.9811 \n",
       "6 Afghanistan Asia      1977 38.438  14880372 786.1134 "
      ]
     },
     "metadata": {},
     "output_type": "display_data"
    }
   ],
   "source": [
    "head(gapminder)"
   ]
  },
  {
   "cell_type": "markdown",
   "metadata": {},
   "source": [
    "This is observational study"
   ]
  },
  {
   "cell_type": "markdown",
   "metadata": {},
   "source": [
    "# Sampling strategies and experimental design\n",
    "\n",
    "various sampling strategies and their benefits/drawbacks as well as principles of experimental design."
   ]
  },
  {
   "cell_type": "markdown",
   "metadata": {},
   "source": [
    "## Sampling strategies\n",
    "\n",
    "> ### Why not take a census?\n",
    "- Conducting a census is very resource intensive \n",
    "- (Nearly) impossible to collect data from all individuals, hence no guarantee of unbiased results \n",
    "- Populations constantly change\n",
    "- Sampling is natural\n",
    "- Simple random sample - randomly select samples from population\n",
    "- Stratified sample - divide population into groups them select samples\n",
    "- Cluster sample - divide population into cluster, randomly sample the cluters\n",
    "- Multistage sample - used for economical reason, same as cluster"
   ]
  },
  {
   "cell_type": "markdown",
   "metadata": {},
   "source": [
    "### Sampling strategies\n",
    "- **Stratified sampling**: A consulting company is planning a pilot study on marketing in Boston. They identify the zip codes that make up the greater Boston area, then sample 50 randomly selected addresses from each zip code and mail a coupon to these addresses. They then track whether the coupon was used in the following month."
   ]
  },
  {
   "cell_type": "markdown",
   "metadata": {},
   "source": [
    "## Sampling in R\n"
   ]
  },
  {
   "cell_type": "code",
   "execution_count": 59,
   "metadata": {},
   "outputs": [
    {
     "data": {
      "text/html": [
       "<table>\n",
       "<thead><tr><th scope=col>name</th><th scope=col>state</th><th scope=col>pop2000</th><th scope=col>pop2010</th><th scope=col>pop2017</th><th scope=col>pop_change</th><th scope=col>poverty</th><th scope=col>homeownership</th><th scope=col>multi_unit</th><th scope=col>unemployment_rate</th><th scope=col>metro</th><th scope=col>median_edu</th><th scope=col>per_capita_income</th><th scope=col>median_hh_income</th><th scope=col>smoking_ban</th></tr></thead>\n",
       "<tbody>\n",
       "\t<tr><td>Autauga County</td><td>Alabama       </td><td> 43671        </td><td> 54571        </td><td> 55504        </td><td> 1.48         </td><td>13.7          </td><td>77.5          </td><td> 7.2          </td><td>3.86          </td><td>yes           </td><td>some_college  </td><td>27841.70      </td><td>55317         </td><td>none          </td></tr>\n",
       "\t<tr><td>Baldwin County</td><td>Alabama       </td><td>140415        </td><td>182265        </td><td>212628        </td><td> 9.19         </td><td>11.8          </td><td>76.7          </td><td>22.6          </td><td>3.99          </td><td>yes           </td><td>some_college  </td><td>27779.85      </td><td>52562         </td><td>none          </td></tr>\n",
       "\t<tr><td>Barbour County</td><td>Alabama       </td><td> 29038        </td><td> 27457        </td><td> 25270        </td><td>-6.22         </td><td>27.2          </td><td>68.0          </td><td>11.1          </td><td>5.90          </td><td>no            </td><td>hs_diploma    </td><td>17891.73      </td><td>33368         </td><td>partial       </td></tr>\n",
       "\t<tr><td>Bibb County   </td><td>Alabama       </td><td> 20826        </td><td> 22915        </td><td> 22668        </td><td> 0.73         </td><td>15.2          </td><td>82.9          </td><td> 6.6          </td><td>4.39          </td><td>yes           </td><td>hs_diploma    </td><td>20572.05      </td><td>43404         </td><td>none          </td></tr>\n",
       "\t<tr><td>Blount County </td><td>Alabama       </td><td> 51024        </td><td> 57322        </td><td> 58013        </td><td> 0.68         </td><td>15.6          </td><td>82.0          </td><td> 3.7          </td><td>4.02          </td><td>yes           </td><td>hs_diploma    </td><td>21367.39      </td><td>47412         </td><td>none          </td></tr>\n",
       "\t<tr><td>Bullock County</td><td>Alabama       </td><td> 11714        </td><td> 10914        </td><td> 10309        </td><td>-2.28         </td><td>28.5          </td><td>76.9          </td><td> 9.9          </td><td>4.93          </td><td>no            </td><td>hs_diploma    </td><td>15444.16      </td><td>29655         </td><td>none          </td></tr>\n",
       "</tbody>\n",
       "</table>\n"
      ],
      "text/latex": [
       "\\begin{tabular}{r|lllllllllllllll}\n",
       " name & state & pop2000 & pop2010 & pop2017 & pop\\_change & poverty & homeownership & multi\\_unit & unemployment\\_rate & metro & median\\_edu & per\\_capita\\_income & median\\_hh\\_income & smoking\\_ban\\\\\n",
       "\\hline\n",
       "\t Autauga County & Alabama        &  43671         &  54571         &  55504         &  1.48          & 13.7           & 77.5           &  7.2           & 3.86           & yes            & some\\_college & 27841.70       & 55317          & none          \\\\\n",
       "\t Baldwin County & Alabama        & 140415         & 182265         & 212628         &  9.19          & 11.8           & 76.7           & 22.6           & 3.99           & yes            & some\\_college & 27779.85       & 52562          & none          \\\\\n",
       "\t Barbour County & Alabama        &  29038         &  27457         &  25270         & -6.22          & 27.2           & 68.0           & 11.1           & 5.90           & no             & hs\\_diploma   & 17891.73       & 33368          & partial       \\\\\n",
       "\t Bibb County    & Alabama        &  20826         &  22915         &  22668         &  0.73          & 15.2           & 82.9           &  6.6           & 4.39           & yes            & hs\\_diploma   & 20572.05       & 43404          & none          \\\\\n",
       "\t Blount County  & Alabama        &  51024         &  57322         &  58013         &  0.68          & 15.6           & 82.0           &  3.7           & 4.02           & yes            & hs\\_diploma   & 21367.39       & 47412          & none          \\\\\n",
       "\t Bullock County & Alabama        &  11714         &  10914         &  10309         & -2.28          & 28.5           & 76.9           &  9.9           & 4.93           & no             & hs\\_diploma   & 15444.16       & 29655          & none          \\\\\n",
       "\\end{tabular}\n"
      ],
      "text/markdown": [
       "\n",
       "| name | state | pop2000 | pop2010 | pop2017 | pop_change | poverty | homeownership | multi_unit | unemployment_rate | metro | median_edu | per_capita_income | median_hh_income | smoking_ban |\n",
       "|---|---|---|---|---|---|---|---|---|---|---|---|---|---|---|\n",
       "| Autauga County | Alabama        |  43671         |  54571         |  55504         |  1.48          | 13.7           | 77.5           |  7.2           | 3.86           | yes            | some_college   | 27841.70       | 55317          | none           |\n",
       "| Baldwin County | Alabama        | 140415         | 182265         | 212628         |  9.19          | 11.8           | 76.7           | 22.6           | 3.99           | yes            | some_college   | 27779.85       | 52562          | none           |\n",
       "| Barbour County | Alabama        |  29038         |  27457         |  25270         | -6.22          | 27.2           | 68.0           | 11.1           | 5.90           | no             | hs_diploma     | 17891.73       | 33368          | partial        |\n",
       "| Bibb County    | Alabama        |  20826         |  22915         |  22668         |  0.73          | 15.2           | 82.9           |  6.6           | 4.39           | yes            | hs_diploma     | 20572.05       | 43404          | none           |\n",
       "| Blount County  | Alabama        |  51024         |  57322         |  58013         |  0.68          | 15.6           | 82.0           |  3.7           | 4.02           | yes            | hs_diploma     | 21367.39       | 47412          | none           |\n",
       "| Bullock County | Alabama        |  11714         |  10914         |  10309         | -2.28          | 28.5           | 76.9           |  9.9           | 4.93           | no             | hs_diploma     | 15444.16       | 29655          | none           |\n",
       "\n"
      ],
      "text/plain": [
       "  name           state   pop2000 pop2010 pop2017 pop_change poverty\n",
       "1 Autauga County Alabama  43671   54571   55504   1.48      13.7   \n",
       "2 Baldwin County Alabama 140415  182265  212628   9.19      11.8   \n",
       "3 Barbour County Alabama  29038   27457   25270  -6.22      27.2   \n",
       "4 Bibb County    Alabama  20826   22915   22668   0.73      15.2   \n",
       "5 Blount County  Alabama  51024   57322   58013   0.68      15.6   \n",
       "6 Bullock County Alabama  11714   10914   10309  -2.28      28.5   \n",
       "  homeownership multi_unit unemployment_rate metro median_edu  \n",
       "1 77.5           7.2       3.86              yes   some_college\n",
       "2 76.7          22.6       3.99              yes   some_college\n",
       "3 68.0          11.1       5.90              no    hs_diploma  \n",
       "4 82.9           6.6       4.39              yes   hs_diploma  \n",
       "5 82.0           3.7       4.02              yes   hs_diploma  \n",
       "6 76.9           9.9       4.93              no    hs_diploma  \n",
       "  per_capita_income median_hh_income smoking_ban\n",
       "1 27841.70          55317            none       \n",
       "2 27779.85          52562            none       \n",
       "3 17891.73          33368            partial    \n",
       "4 20572.05          43404            none       \n",
       "5 21367.39          47412            none       \n",
       "6 15444.16          29655            none       "
      ]
     },
     "metadata": {},
     "output_type": "display_data"
    }
   ],
   "source": [
    "data(county)\n",
    "head(county)"
   ]
  },
  {
   "cell_type": "code",
   "execution_count": 60,
   "metadata": {},
   "outputs": [
    {
     "data": {
      "text/html": [
       "<table>\n",
       "<thead><tr><th scope=col>name</th><th scope=col>state</th><th scope=col>pop2000</th><th scope=col>pop2010</th><th scope=col>pop2017</th><th scope=col>pop_change</th><th scope=col>poverty</th><th scope=col>homeownership</th><th scope=col>multi_unit</th><th scope=col>unemployment_rate</th><th scope=col>metro</th><th scope=col>median_edu</th><th scope=col>per_capita_income</th><th scope=col>median_hh_income</th><th scope=col>smoking_ban</th></tr></thead>\n",
       "<tbody>\n",
       "\t<tr><td>Autauga County</td><td>Alabama       </td><td> 43671        </td><td> 54571        </td><td> 55504        </td><td> 1.48         </td><td>13.7          </td><td>77.5          </td><td> 7.2          </td><td>3.86          </td><td>yes           </td><td>some_college  </td><td>27841.70      </td><td>55317         </td><td>none          </td></tr>\n",
       "\t<tr><td>Baldwin County</td><td>Alabama       </td><td>140415        </td><td>182265        </td><td>212628        </td><td> 9.19         </td><td>11.8          </td><td>76.7          </td><td>22.6          </td><td>3.99          </td><td>yes           </td><td>some_college  </td><td>27779.85      </td><td>52562         </td><td>none          </td></tr>\n",
       "\t<tr><td>Barbour County</td><td>Alabama       </td><td> 29038        </td><td> 27457        </td><td> 25270        </td><td>-6.22         </td><td>27.2          </td><td>68.0          </td><td>11.1          </td><td>5.90          </td><td>no            </td><td>hs_diploma    </td><td>17891.73      </td><td>33368         </td><td>partial       </td></tr>\n",
       "\t<tr><td>Bibb County   </td><td>Alabama       </td><td> 20826        </td><td> 22915        </td><td> 22668        </td><td> 0.73         </td><td>15.2          </td><td>82.9          </td><td> 6.6          </td><td>4.39          </td><td>yes           </td><td>hs_diploma    </td><td>20572.05      </td><td>43404         </td><td>none          </td></tr>\n",
       "\t<tr><td>Blount County </td><td>Alabama       </td><td> 51024        </td><td> 57322        </td><td> 58013        </td><td> 0.68         </td><td>15.6          </td><td>82.0          </td><td> 3.7          </td><td>4.02          </td><td>yes           </td><td>hs_diploma    </td><td>21367.39      </td><td>47412         </td><td>none          </td></tr>\n",
       "\t<tr><td>Bullock County</td><td>Alabama       </td><td> 11714        </td><td> 10914        </td><td> 10309        </td><td>-2.28         </td><td>28.5          </td><td>76.9          </td><td> 9.9          </td><td>4.93          </td><td>no            </td><td>hs_diploma    </td><td>15444.16      </td><td>29655         </td><td>none          </td></tr>\n",
       "</tbody>\n",
       "</table>\n"
      ],
      "text/latex": [
       "\\begin{tabular}{r|lllllllllllllll}\n",
       " name & state & pop2000 & pop2010 & pop2017 & pop\\_change & poverty & homeownership & multi\\_unit & unemployment\\_rate & metro & median\\_edu & per\\_capita\\_income & median\\_hh\\_income & smoking\\_ban\\\\\n",
       "\\hline\n",
       "\t Autauga County & Alabama        &  43671         &  54571         &  55504         &  1.48          & 13.7           & 77.5           &  7.2           & 3.86           & yes            & some\\_college & 27841.70       & 55317          & none          \\\\\n",
       "\t Baldwin County & Alabama        & 140415         & 182265         & 212628         &  9.19          & 11.8           & 76.7           & 22.6           & 3.99           & yes            & some\\_college & 27779.85       & 52562          & none          \\\\\n",
       "\t Barbour County & Alabama        &  29038         &  27457         &  25270         & -6.22          & 27.2           & 68.0           & 11.1           & 5.90           & no             & hs\\_diploma   & 17891.73       & 33368          & partial       \\\\\n",
       "\t Bibb County    & Alabama        &  20826         &  22915         &  22668         &  0.73          & 15.2           & 82.9           &  6.6           & 4.39           & yes            & hs\\_diploma   & 20572.05       & 43404          & none          \\\\\n",
       "\t Blount County  & Alabama        &  51024         &  57322         &  58013         &  0.68          & 15.6           & 82.0           &  3.7           & 4.02           & yes            & hs\\_diploma   & 21367.39       & 47412          & none          \\\\\n",
       "\t Bullock County & Alabama        &  11714         &  10914         &  10309         & -2.28          & 28.5           & 76.9           &  9.9           & 4.93           & no             & hs\\_diploma   & 15444.16       & 29655          & none          \\\\\n",
       "\\end{tabular}\n"
      ],
      "text/markdown": [
       "\n",
       "| name | state | pop2000 | pop2010 | pop2017 | pop_change | poverty | homeownership | multi_unit | unemployment_rate | metro | median_edu | per_capita_income | median_hh_income | smoking_ban |\n",
       "|---|---|---|---|---|---|---|---|---|---|---|---|---|---|---|\n",
       "| Autauga County | Alabama        |  43671         |  54571         |  55504         |  1.48          | 13.7           | 77.5           |  7.2           | 3.86           | yes            | some_college   | 27841.70       | 55317          | none           |\n",
       "| Baldwin County | Alabama        | 140415         | 182265         | 212628         |  9.19          | 11.8           | 76.7           | 22.6           | 3.99           | yes            | some_college   | 27779.85       | 52562          | none           |\n",
       "| Barbour County | Alabama        |  29038         |  27457         |  25270         | -6.22          | 27.2           | 68.0           | 11.1           | 5.90           | no             | hs_diploma     | 17891.73       | 33368          | partial        |\n",
       "| Bibb County    | Alabama        |  20826         |  22915         |  22668         |  0.73          | 15.2           | 82.9           |  6.6           | 4.39           | yes            | hs_diploma     | 20572.05       | 43404          | none           |\n",
       "| Blount County  | Alabama        |  51024         |  57322         |  58013         |  0.68          | 15.6           | 82.0           |  3.7           | 4.02           | yes            | hs_diploma     | 21367.39       | 47412          | none           |\n",
       "| Bullock County | Alabama        |  11714         |  10914         |  10309         | -2.28          | 28.5           | 76.9           |  9.9           | 4.93           | no             | hs_diploma     | 15444.16       | 29655          | none           |\n",
       "\n"
      ],
      "text/plain": [
       "  name           state   pop2000 pop2010 pop2017 pop_change poverty\n",
       "1 Autauga County Alabama  43671   54571   55504   1.48      13.7   \n",
       "2 Baldwin County Alabama 140415  182265  212628   9.19      11.8   \n",
       "3 Barbour County Alabama  29038   27457   25270  -6.22      27.2   \n",
       "4 Bibb County    Alabama  20826   22915   22668   0.73      15.2   \n",
       "5 Blount County  Alabama  51024   57322   58013   0.68      15.6   \n",
       "6 Bullock County Alabama  11714   10914   10309  -2.28      28.5   \n",
       "  homeownership multi_unit unemployment_rate metro median_edu  \n",
       "1 77.5           7.2       3.86              yes   some_college\n",
       "2 76.7          22.6       3.99              yes   some_college\n",
       "3 68.0          11.1       5.90              no    hs_diploma  \n",
       "4 82.9           6.6       4.39              yes   hs_diploma  \n",
       "5 82.0           3.7       4.02              yes   hs_diploma  \n",
       "6 76.9           9.9       4.93              no    hs_diploma  \n",
       "  per_capita_income median_hh_income smoking_ban\n",
       "1 27841.70          55317            none       \n",
       "2 27779.85          52562            none       \n",
       "3 17891.73          33368            partial    \n",
       "4 20572.05          43404            none       \n",
       "5 21367.39          47412            none       \n",
       "6 15444.16          29655            none       "
      ]
     },
     "metadata": {},
     "output_type": "display_data"
    }
   ],
   "source": [
    "county_noDC <- county %>%\n",
    "    filter(state != \"District of Columbia\") %>%\n",
    "        droplevels()\n",
    "head(county_noDC)"
   ]
  },
  {
   "cell_type": "markdown",
   "metadata": {},
   "source": [
    "> ### Simple random sample"
   ]
  },
  {
   "cell_type": "code",
   "execution_count": 61,
   "metadata": {},
   "outputs": [
    {
     "name": "stdout",
     "output_type": "stream",
     "text": [
      "Rows: 150\n",
      "Columns: 15\n",
      "$ name              <chr> \"Polk County\", \"Lyon County\", \"Douglas County\", \"...\n",
      "$ state             <fct> Texas, Kentucky, Oregon, Louisiana, Missouri, Ind...\n",
      "$ pop2000           <dbl> 41133, 8080, 100399, 412852, 8016, 16788, 73938, ...\n",
      "$ pop2010           <dbl> 45413, 8314, 107667, 440171, 8433, 16212, 71870, ...\n",
      "$ pop2017           <int> 49162, 8082, 109405, 446268, 8361, 15505, 67653, ...\n",
      "$ pop_change        <dbl> 7.97, -4.40, 2.67, 0.41, 0.72, -2.19, -3.48, 0.01...\n",
      "$ poverty           <dbl> 18.7, 14.1, 17.0, 19.1, 13.2, 13.4, 17.5, 10.1, 1...\n",
      "$ homeownership     <dbl> 78.9, 81.0, 70.6, 61.6, 74.7, 78.3, 72.1, 79.1, 7...\n",
      "$ multi_unit        <dbl> 4.5, 10.1, 12.1, 29.1, 7.4, 6.9, 17.5, 8.0, 5.5, ...\n",
      "$ unemployment_rate <dbl> 6.02, 5.63, 5.35, 4.40, 3.32, 5.40, 4.81, 3.20, 3...\n",
      "$ metro             <fct> no, no, no, yes, no, yes, no, yes, no, no, yes, n...\n",
      "$ median_edu        <fct> hs_diploma, hs_diploma, some_college, some_colleg...\n",
      "$ per_capita_income <dbl> 23886.99, 31457.84, 25122.46, 29116.48, 21991.63,...\n",
      "$ median_hh_income  <int> 43267, 50268, 44023, 51436, 45707, 45440, 39021, ...\n",
      "$ smoking_ban       <fct> none, none, partial, partial, none, none, partial...\n"
     ]
    }
   ],
   "source": [
    "county_srs <- county_noDC %>%\n",
    "    sample_n(size=150)\n",
    "glimpse(county_srs)"
   ]
  },
  {
   "cell_type": "markdown",
   "metadata": {},
   "source": [
    "> ### SRS state distribution"
   ]
  },
  {
   "cell_type": "code",
   "execution_count": 62,
   "metadata": {},
   "outputs": [
    {
     "data": {
      "text/html": [
       "<table>\n",
       "<thead><tr><th scope=col>state</th><th scope=col>n</th></tr></thead>\n",
       "<tbody>\n",
       "\t<tr><td>Alabama       </td><td> 4            </td></tr>\n",
       "\t<tr><td>Alaska        </td><td> 1            </td></tr>\n",
       "\t<tr><td>Arkansas      </td><td> 3            </td></tr>\n",
       "\t<tr><td>California    </td><td> 3            </td></tr>\n",
       "\t<tr><td>Colorado      </td><td> 2            </td></tr>\n",
       "\t<tr><td>Connecticut   </td><td> 1            </td></tr>\n",
       "\t<tr><td>Florida       </td><td> 3            </td></tr>\n",
       "\t<tr><td>Georgia       </td><td>11            </td></tr>\n",
       "\t<tr><td>Idaho         </td><td> 2            </td></tr>\n",
       "\t<tr><td>Illinois      </td><td> 4            </td></tr>\n",
       "\t<tr><td>Indiana       </td><td> 5            </td></tr>\n",
       "\t<tr><td>Iowa          </td><td> 6            </td></tr>\n",
       "\t<tr><td>Kansas        </td><td> 2            </td></tr>\n",
       "\t<tr><td>Kentucky      </td><td> 7            </td></tr>\n",
       "\t<tr><td>Louisiana     </td><td> 3            </td></tr>\n",
       "\t<tr><td>Maine         </td><td> 3            </td></tr>\n",
       "\t<tr><td>Michigan      </td><td> 5            </td></tr>\n",
       "\t<tr><td>Minnesota     </td><td> 6            </td></tr>\n",
       "\t<tr><td>Mississippi   </td><td> 5            </td></tr>\n",
       "\t<tr><td>Missouri      </td><td> 5            </td></tr>\n",
       "\t<tr><td>Montana       </td><td> 4            </td></tr>\n",
       "\t<tr><td>Nebraska      </td><td> 5            </td></tr>\n",
       "\t<tr><td>Nevada        </td><td> 1            </td></tr>\n",
       "\t<tr><td>New Mexico    </td><td> 2            </td></tr>\n",
       "\t<tr><td>New York      </td><td> 1            </td></tr>\n",
       "\t<tr><td>North Carolina</td><td> 4            </td></tr>\n",
       "\t<tr><td>North Dakota  </td><td> 3            </td></tr>\n",
       "\t<tr><td>Ohio          </td><td> 2            </td></tr>\n",
       "\t<tr><td>Oklahoma      </td><td> 4            </td></tr>\n",
       "\t<tr><td>Oregon        </td><td> 3            </td></tr>\n",
       "\t<tr><td>Pennsylvania  </td><td> 2            </td></tr>\n",
       "\t<tr><td>South Carolina</td><td> 2            </td></tr>\n",
       "\t<tr><td>South Dakota  </td><td> 1            </td></tr>\n",
       "\t<tr><td>Tennessee     </td><td> 2            </td></tr>\n",
       "\t<tr><td>Texas         </td><td>10            </td></tr>\n",
       "\t<tr><td>Vermont       </td><td> 1            </td></tr>\n",
       "\t<tr><td>Virginia      </td><td> 8            </td></tr>\n",
       "\t<tr><td>Washington    </td><td> 2            </td></tr>\n",
       "\t<tr><td>West Virginia </td><td> 7            </td></tr>\n",
       "\t<tr><td>Wisconsin     </td><td> 5            </td></tr>\n",
       "</tbody>\n",
       "</table>\n"
      ],
      "text/latex": [
       "\\begin{tabular}{r|ll}\n",
       " state & n\\\\\n",
       "\\hline\n",
       "\t Alabama        &  4            \\\\\n",
       "\t Alaska         &  1            \\\\\n",
       "\t Arkansas       &  3            \\\\\n",
       "\t California     &  3            \\\\\n",
       "\t Colorado       &  2            \\\\\n",
       "\t Connecticut    &  1            \\\\\n",
       "\t Florida        &  3            \\\\\n",
       "\t Georgia        & 11            \\\\\n",
       "\t Idaho          &  2            \\\\\n",
       "\t Illinois       &  4            \\\\\n",
       "\t Indiana        &  5            \\\\\n",
       "\t Iowa           &  6            \\\\\n",
       "\t Kansas         &  2            \\\\\n",
       "\t Kentucky       &  7            \\\\\n",
       "\t Louisiana      &  3            \\\\\n",
       "\t Maine          &  3            \\\\\n",
       "\t Michigan       &  5            \\\\\n",
       "\t Minnesota      &  6            \\\\\n",
       "\t Mississippi    &  5            \\\\\n",
       "\t Missouri       &  5            \\\\\n",
       "\t Montana        &  4            \\\\\n",
       "\t Nebraska       &  5            \\\\\n",
       "\t Nevada         &  1            \\\\\n",
       "\t New Mexico     &  2            \\\\\n",
       "\t New York       &  1            \\\\\n",
       "\t North Carolina &  4            \\\\\n",
       "\t North Dakota   &  3            \\\\\n",
       "\t Ohio           &  2            \\\\\n",
       "\t Oklahoma       &  4            \\\\\n",
       "\t Oregon         &  3            \\\\\n",
       "\t Pennsylvania   &  2            \\\\\n",
       "\t South Carolina &  2            \\\\\n",
       "\t South Dakota   &  1            \\\\\n",
       "\t Tennessee      &  2            \\\\\n",
       "\t Texas          & 10            \\\\\n",
       "\t Vermont        &  1            \\\\\n",
       "\t Virginia       &  8            \\\\\n",
       "\t Washington     &  2            \\\\\n",
       "\t West Virginia  &  7            \\\\\n",
       "\t Wisconsin      &  5            \\\\\n",
       "\\end{tabular}\n"
      ],
      "text/markdown": [
       "\n",
       "| state | n |\n",
       "|---|---|\n",
       "| Alabama        |  4             |\n",
       "| Alaska         |  1             |\n",
       "| Arkansas       |  3             |\n",
       "| California     |  3             |\n",
       "| Colorado       |  2             |\n",
       "| Connecticut    |  1             |\n",
       "| Florida        |  3             |\n",
       "| Georgia        | 11             |\n",
       "| Idaho          |  2             |\n",
       "| Illinois       |  4             |\n",
       "| Indiana        |  5             |\n",
       "| Iowa           |  6             |\n",
       "| Kansas         |  2             |\n",
       "| Kentucky       |  7             |\n",
       "| Louisiana      |  3             |\n",
       "| Maine          |  3             |\n",
       "| Michigan       |  5             |\n",
       "| Minnesota      |  6             |\n",
       "| Mississippi    |  5             |\n",
       "| Missouri       |  5             |\n",
       "| Montana        |  4             |\n",
       "| Nebraska       |  5             |\n",
       "| Nevada         |  1             |\n",
       "| New Mexico     |  2             |\n",
       "| New York       |  1             |\n",
       "| North Carolina |  4             |\n",
       "| North Dakota   |  3             |\n",
       "| Ohio           |  2             |\n",
       "| Oklahoma       |  4             |\n",
       "| Oregon         |  3             |\n",
       "| Pennsylvania   |  2             |\n",
       "| South Carolina |  2             |\n",
       "| South Dakota   |  1             |\n",
       "| Tennessee      |  2             |\n",
       "| Texas          | 10             |\n",
       "| Vermont        |  1             |\n",
       "| Virginia       |  8             |\n",
       "| Washington     |  2             |\n",
       "| West Virginia  |  7             |\n",
       "| Wisconsin      |  5             |\n",
       "\n"
      ],
      "text/plain": [
       "   state          n \n",
       "1  Alabama         4\n",
       "2  Alaska          1\n",
       "3  Arkansas        3\n",
       "4  California      3\n",
       "5  Colorado        2\n",
       "6  Connecticut     1\n",
       "7  Florida         3\n",
       "8  Georgia        11\n",
       "9  Idaho           2\n",
       "10 Illinois        4\n",
       "11 Indiana         5\n",
       "12 Iowa            6\n",
       "13 Kansas          2\n",
       "14 Kentucky        7\n",
       "15 Louisiana       3\n",
       "16 Maine           3\n",
       "17 Michigan        5\n",
       "18 Minnesota       6\n",
       "19 Mississippi     5\n",
       "20 Missouri        5\n",
       "21 Montana         4\n",
       "22 Nebraska        5\n",
       "23 Nevada          1\n",
       "24 New Mexico      2\n",
       "25 New York        1\n",
       "26 North Carolina  4\n",
       "27 North Dakota    3\n",
       "28 Ohio            2\n",
       "29 Oklahoma        4\n",
       "30 Oregon          3\n",
       "31 Pennsylvania    2\n",
       "32 South Carolina  2\n",
       "33 South Dakota    1\n",
       "34 Tennessee       2\n",
       "35 Texas          10\n",
       "36 Vermont         1\n",
       "37 Virginia        8\n",
       "38 Washington      2\n",
       "39 West Virginia   7\n",
       "40 Wisconsin       5"
      ]
     },
     "metadata": {},
     "output_type": "display_data"
    }
   ],
   "source": [
    "county_srs %>%\n",
    "    group_by(state) %>%\n",
    "        count()"
   ]
  },
  {
   "cell_type": "markdown",
   "metadata": {},
   "source": [
    "> ### Stratified sample"
   ]
  },
  {
   "cell_type": "code",
   "execution_count": 63,
   "metadata": {},
   "outputs": [
    {
     "name": "stdout",
     "output_type": "stream",
     "text": [
      "Rows: 150\n",
      "Columns: 15\n",
      "Groups: state [50]\n",
      "$ name              <chr> \"Marion County\", \"Crenshaw County\", \"Sumter Count...\n",
      "$ state             <fct> Alabama, Alabama, Alabama, Alaska, Alaska, Alaska...\n",
      "$ pop2000           <dbl> 31214, 13665, 14798, 808, 82840, 5465, 160026, 33...\n",
      "$ pop2010           <dbl> 30776, 13906, 13763, 662, 97581, 5561, 195751, 37...\n",
      "$ pop2017           <int> 29833, 13871, 12687, 605, 99703, 5763, 207534, 37...\n",
      "$ pop_change        <dbl> -1.28, 0.17, -5.15, -7.07, -1.18, 0.19, 2.84, 0.1...\n",
      "$ poverty           <dbl> 17.6, 17.6, 36.0, 6.2, 7.7, 7.5, 19.7, 21.4, 18.6...\n",
      "$ homeownership     <dbl> 75.8, 67.8, 68.3, 61.1, 59.8, 36.3, 69.6, 72.0, 7...\n",
      "$ multi_unit        <dbl> 10.9, 9.2, 14.5, 12.4, 26.2, 30.9, 12.5, 7.7, 9.8...\n",
      "$ unemployment_rate <dbl> 4.79, 4.47, 6.54, 9.36, 6.29, 3.63, 17.05, 5.44, ...\n",
      "$ metro             <fct> no, no, no, no, yes, no, yes, no, yes, no, no, no...\n",
      "$ median_edu        <fct> hs_diploma, hs_diploma, hs_diploma, some_college,...\n",
      "$ per_capita_income <dbl> 21682.70, 20466.80, 14308.71, 29311.67, 34968.82,...\n",
      "$ median_hh_income  <int> 35719, 38937, 21663, 64583, 76250, 85192, 43253, ...\n",
      "$ smoking_ban       <fct> none, none, partial, NA, none, none, partial, non...\n"
     ]
    }
   ],
   "source": [
    "county_str <- county_noDC %>%\n",
    "    group_by(state) %>%\n",
    "        sample_n(size=3)\n",
    "glimpse(county_str)"
   ]
  },
  {
   "cell_type": "markdown",
   "metadata": {},
   "source": [
    "### Simple random sample in R\n",
    "Suppose we want to collect some data from a sample of eight states. A list of all states and the region they belong to (Northeast, Midwest, South, West) are given in the `us_regions` data frame."
   ]
  },
  {
   "cell_type": "code",
   "execution_count": 64,
   "metadata": {},
   "outputs": [],
   "source": [
    "download.file(\"https://assets.datacamp.com/production/repositories/539/datasets/5a549cee71a2347201fb145e25312eaa426ec9be/us_regions.RData\", \"datasets/us_regions.RData\")"
   ]
  },
  {
   "cell_type": "code",
   "execution_count": 65,
   "metadata": {},
   "outputs": [],
   "source": [
    "load(\"datasets/us_regions.RData\")"
   ]
  },
  {
   "cell_type": "code",
   "execution_count": 66,
   "metadata": {},
   "outputs": [
    {
     "data": {
      "text/html": [
       "<ol class=list-inline>\n",
       "\t<li>'avg_read'</li>\n",
       "\t<li>'county'</li>\n",
       "\t<li>'county_noDC'</li>\n",
       "\t<li>'county_srs'</li>\n",
       "\t<li>'county_str'</li>\n",
       "\t<li>'email50'</li>\n",
       "\t<li>'email50_big'</li>\n",
       "\t<li>'email50_fortified'</li>\n",
       "\t<li>'gapminder'</li>\n",
       "\t<li>'hsb2'</li>\n",
       "\t<li>'hsb2_public'</li>\n",
       "\t<li>'med_num_char'</li>\n",
       "\t<li>'perc_admit_by_dept'</li>\n",
       "\t<li>'type_of_study'</li>\n",
       "\t<li>'ucb_admission_counts'</li>\n",
       "\t<li>'ucb_admit'</li>\n",
       "\t<li>'us_regions'</li>\n",
       "</ol>\n"
      ],
      "text/latex": [
       "\\begin{enumerate*}\n",
       "\\item 'avg\\_read'\n",
       "\\item 'county'\n",
       "\\item 'county\\_noDC'\n",
       "\\item 'county\\_srs'\n",
       "\\item 'county\\_str'\n",
       "\\item 'email50'\n",
       "\\item 'email50\\_big'\n",
       "\\item 'email50\\_fortified'\n",
       "\\item 'gapminder'\n",
       "\\item 'hsb2'\n",
       "\\item 'hsb2\\_public'\n",
       "\\item 'med\\_num\\_char'\n",
       "\\item 'perc\\_admit\\_by\\_dept'\n",
       "\\item 'type\\_of\\_study'\n",
       "\\item 'ucb\\_admission\\_counts'\n",
       "\\item 'ucb\\_admit'\n",
       "\\item 'us\\_regions'\n",
       "\\end{enumerate*}\n"
      ],
      "text/markdown": [
       "1. 'avg_read'\n",
       "2. 'county'\n",
       "3. 'county_noDC'\n",
       "4. 'county_srs'\n",
       "5. 'county_str'\n",
       "6. 'email50'\n",
       "7. 'email50_big'\n",
       "8. 'email50_fortified'\n",
       "9. 'gapminder'\n",
       "10. 'hsb2'\n",
       "11. 'hsb2_public'\n",
       "12. 'med_num_char'\n",
       "13. 'perc_admit_by_dept'\n",
       "14. 'type_of_study'\n",
       "15. 'ucb_admission_counts'\n",
       "16. 'ucb_admit'\n",
       "17. 'us_regions'\n",
       "\n",
       "\n"
      ],
      "text/plain": [
       " [1] \"avg_read\"             \"county\"               \"county_noDC\"         \n",
       " [4] \"county_srs\"           \"county_str\"           \"email50\"             \n",
       " [7] \"email50_big\"          \"email50_fortified\"    \"gapminder\"           \n",
       "[10] \"hsb2\"                 \"hsb2_public\"          \"med_num_char\"        \n",
       "[13] \"perc_admit_by_dept\"   \"type_of_study\"        \"ucb_admission_counts\"\n",
       "[16] \"ucb_admit\"            \"us_regions\"          "
      ]
     },
     "metadata": {},
     "output_type": "display_data"
    }
   ],
   "source": [
    "ls()"
   ]
  },
  {
   "cell_type": "code",
   "execution_count": 67,
   "metadata": {},
   "outputs": [
    {
     "data": {
      "text/html": [
       "<table>\n",
       "<thead><tr><th scope=col>region</th><th scope=col>n</th></tr></thead>\n",
       "<tbody>\n",
       "\t<tr><td>Midwest  </td><td>2        </td></tr>\n",
       "\t<tr><td>Northeast</td><td>2        </td></tr>\n",
       "\t<tr><td>South    </td><td>2        </td></tr>\n",
       "\t<tr><td>West     </td><td>2        </td></tr>\n",
       "</tbody>\n",
       "</table>\n"
      ],
      "text/latex": [
       "\\begin{tabular}{r|ll}\n",
       " region & n\\\\\n",
       "\\hline\n",
       "\t Midwest   & 2        \\\\\n",
       "\t Northeast & 2        \\\\\n",
       "\t South     & 2        \\\\\n",
       "\t West      & 2        \\\\\n",
       "\\end{tabular}\n"
      ],
      "text/markdown": [
       "\n",
       "| region | n |\n",
       "|---|---|\n",
       "| Midwest   | 2         |\n",
       "| Northeast | 2         |\n",
       "| South     | 2         |\n",
       "| West      | 2         |\n",
       "\n"
      ],
      "text/plain": [
       "  region    n\n",
       "1 Midwest   2\n",
       "2 Northeast 2\n",
       "3 South     2\n",
       "4 West      2"
      ]
     },
     "metadata": {},
     "output_type": "display_data"
    }
   ],
   "source": [
    "# Simple random sample: states_srs\n",
    "states_srs <- us_regions %>%\n",
    "  sample_n(8)\n",
    "\n",
    "# Count states by region\n",
    "states_srs %>%\n",
    "  count(region)"
   ]
  },
  {
   "cell_type": "markdown",
   "metadata": {},
   "source": [
    "> Note: this strategy may select an unequal number of states from each region."
   ]
  },
  {
   "cell_type": "markdown",
   "metadata": {},
   "source": [
    "### Stratified sample in R\n",
    "\n",
    "we took a simple random sample of eight states. However, we did not have any control over how many states from each region got sampled. The goal of stratified sampling in this context is to have control over the number of states sampled from each region. Our goal is to sample an equal number of states from each region."
   ]
  },
  {
   "cell_type": "code",
   "execution_count": 68,
   "metadata": {},
   "outputs": [
    {
     "data": {
      "text/html": [
       "<table>\n",
       "<thead><tr><th scope=col>region</th><th scope=col>n</th></tr></thead>\n",
       "<tbody>\n",
       "\t<tr><td>Midwest  </td><td>2        </td></tr>\n",
       "\t<tr><td>Northeast</td><td>2        </td></tr>\n",
       "\t<tr><td>South    </td><td>2        </td></tr>\n",
       "\t<tr><td>West     </td><td>2        </td></tr>\n",
       "</tbody>\n",
       "</table>\n"
      ],
      "text/latex": [
       "\\begin{tabular}{r|ll}\n",
       " region & n\\\\\n",
       "\\hline\n",
       "\t Midwest   & 2        \\\\\n",
       "\t Northeast & 2        \\\\\n",
       "\t South     & 2        \\\\\n",
       "\t West      & 2        \\\\\n",
       "\\end{tabular}\n"
      ],
      "text/markdown": [
       "\n",
       "| region | n |\n",
       "|---|---|\n",
       "| Midwest   | 2         |\n",
       "| Northeast | 2         |\n",
       "| South     | 2         |\n",
       "| West      | 2         |\n",
       "\n"
      ],
      "text/plain": [
       "  region    n\n",
       "1 Midwest   2\n",
       "2 Northeast 2\n",
       "3 South     2\n",
       "4 West      2"
      ]
     },
     "metadata": {},
     "output_type": "display_data"
    }
   ],
   "source": [
    "# Stratified sample\n",
    "states_str <- us_regions %>%\n",
    "  group_by(region) %>%\n",
    "  sample_n(2)\n",
    "\n",
    "# Count states by region\n",
    "states_str %>%\n",
    "  count(region)"
   ]
  },
  {
   "cell_type": "markdown",
   "metadata": {},
   "source": [
    "In this stratified sample, each stratum (i.e. Region) is represented equally."
   ]
  },
  {
   "attachments": {},
   "cell_type": "markdown",
   "metadata": {},
   "source": [
    "## Principles of experimental design\n",
    "\n",
    "- **Control**: compare treatment of interest to a control group \n",
    "- **Randomize**: randomly assign subjects to treatments \n",
    "- **Replicate**: collect a sufficiently large sample within a study, or replicate the entire study \n",
    "- **Block**: account for the potential effect of confounding variables \n",
    "  - Group subjects into blocks based on these variables\n",
    "  - Randomize within each block to treatment groups\n",
    "\n",
    "\n",
    "> ### Design a study, with blocking\n",
    "- Learning R: lecture or online\n",
    "\n",
    "![image.png](datasets/r-lecture-online.png)"
   ]
  },
  {
   "cell_type": "markdown",
   "metadata": {},
   "source": [
    "### Identifying components of a study\n",
    "\n",
    "A researcher designs a study to test the effect of light and noise levels on exam performance of students. The researcher also believes that light and noise levels might have different effects on males and females, so she wants to make sure both genders are represented equally under different conditions.\n",
    "\n",
    "> There are 2 blocking variables (light and noise), 1 explanatory variable (gender), and 1 response variable (exam performance)."
   ]
  },
  {
   "cell_type": "markdown",
   "metadata": {},
   "source": [
    "### Experimental design terminology\n",
    "\n",
    "Explanatory variables are conditions you can impose on the experimental units, while blocking variables are characteristics that the experimental units come with that you would like to control for."
   ]
  },
  {
   "cell_type": "markdown",
   "metadata": {},
   "source": [
    "### Connect blocking and stratifying\n",
    "In random sampling, we use stratifying to control for a variable. In random assignment, we use blocking to achieve the same goal."
   ]
  },
  {
   "cell_type": "markdown",
   "metadata": {},
   "source": [
    "# Case study\n",
    "Apply terminology, principles, and R code to a case study looking at how the physical appearance of instructors impacts their students' course evaluations."
   ]
  },
  {
   "cell_type": "markdown",
   "metadata": {},
   "source": [
    "## Beauty in the classroom"
   ]
  },
  {
   "cell_type": "code",
   "execution_count": 70,
   "metadata": {},
   "outputs": [],
   "source": [
    "download.file(\"https://assets.datacamp.com/production/repositories/539/datasets/e4bb6dc2496e3a50208dccb81dcbcb62faf5b122/evals.RData\", \"datasets/evals.RData\")"
   ]
  },
  {
   "cell_type": "code",
   "execution_count": 72,
   "metadata": {},
   "outputs": [],
   "source": [
    "load(\"datasets/evals.RData\")"
   ]
  },
  {
   "cell_type": "markdown",
   "metadata": {},
   "source": [
    "### Inspect the data\n"
   ]
  },
  {
   "cell_type": "code",
   "execution_count": 74,
   "metadata": {},
   "outputs": [
    {
     "data": {
      "text/html": [
       "<ol class=list-inline>\n",
       "\t<li>'avg_read'</li>\n",
       "\t<li>'county'</li>\n",
       "\t<li>'county_noDC'</li>\n",
       "\t<li>'county_srs'</li>\n",
       "\t<li>'county_str'</li>\n",
       "\t<li>'email50'</li>\n",
       "\t<li>'email50_big'</li>\n",
       "\t<li>'email50_fortified'</li>\n",
       "\t<li>'evals'</li>\n",
       "\t<li>'gapminder'</li>\n",
       "\t<li>'hsb2'</li>\n",
       "\t<li>'hsb2_public'</li>\n",
       "\t<li>'med_num_char'</li>\n",
       "\t<li>'perc_admit_by_dept'</li>\n",
       "\t<li>'states_srs'</li>\n",
       "\t<li>'states_str'</li>\n",
       "\t<li>'type_of_study'</li>\n",
       "\t<li>'ucb_admission_counts'</li>\n",
       "\t<li>'ucb_admit'</li>\n",
       "\t<li>'us_regions'</li>\n",
       "</ol>\n"
      ],
      "text/latex": [
       "\\begin{enumerate*}\n",
       "\\item 'avg\\_read'\n",
       "\\item 'county'\n",
       "\\item 'county\\_noDC'\n",
       "\\item 'county\\_srs'\n",
       "\\item 'county\\_str'\n",
       "\\item 'email50'\n",
       "\\item 'email50\\_big'\n",
       "\\item 'email50\\_fortified'\n",
       "\\item 'evals'\n",
       "\\item 'gapminder'\n",
       "\\item 'hsb2'\n",
       "\\item 'hsb2\\_public'\n",
       "\\item 'med\\_num\\_char'\n",
       "\\item 'perc\\_admit\\_by\\_dept'\n",
       "\\item 'states\\_srs'\n",
       "\\item 'states\\_str'\n",
       "\\item 'type\\_of\\_study'\n",
       "\\item 'ucb\\_admission\\_counts'\n",
       "\\item 'ucb\\_admit'\n",
       "\\item 'us\\_regions'\n",
       "\\end{enumerate*}\n"
      ],
      "text/markdown": [
       "1. 'avg_read'\n",
       "2. 'county'\n",
       "3. 'county_noDC'\n",
       "4. 'county_srs'\n",
       "5. 'county_str'\n",
       "6. 'email50'\n",
       "7. 'email50_big'\n",
       "8. 'email50_fortified'\n",
       "9. 'evals'\n",
       "10. 'gapminder'\n",
       "11. 'hsb2'\n",
       "12. 'hsb2_public'\n",
       "13. 'med_num_char'\n",
       "14. 'perc_admit_by_dept'\n",
       "15. 'states_srs'\n",
       "16. 'states_str'\n",
       "17. 'type_of_study'\n",
       "18. 'ucb_admission_counts'\n",
       "19. 'ucb_admit'\n",
       "20. 'us_regions'\n",
       "\n",
       "\n"
      ],
      "text/plain": [
       " [1] \"avg_read\"             \"county\"               \"county_noDC\"         \n",
       " [4] \"county_srs\"           \"county_str\"           \"email50\"             \n",
       " [7] \"email50_big\"          \"email50_fortified\"    \"evals\"               \n",
       "[10] \"gapminder\"            \"hsb2\"                 \"hsb2_public\"         \n",
       "[13] \"med_num_char\"         \"perc_admit_by_dept\"   \"states_srs\"          \n",
       "[16] \"states_str\"           \"type_of_study\"        \"ucb_admission_counts\"\n",
       "[19] \"ucb_admit\"            \"us_regions\"          "
      ]
     },
     "metadata": {},
     "output_type": "display_data"
    }
   ],
   "source": [
    "ls()"
   ]
  },
  {
   "cell_type": "code",
   "execution_count": 75,
   "metadata": {},
   "outputs": [
    {
     "data": {
      "text/html": [
       "<table>\n",
       "<thead><tr><th scope=col>score</th><th scope=col>rank</th><th scope=col>ethnicity</th><th scope=col>gender</th><th scope=col>language</th><th scope=col>age</th><th scope=col>cls_perc_eval</th><th scope=col>cls_did_eval</th><th scope=col>cls_students</th><th scope=col>cls_level</th><th scope=col>...</th><th scope=col>cls_credits</th><th scope=col>bty_f1lower</th><th scope=col>bty_f1upper</th><th scope=col>bty_f2upper</th><th scope=col>bty_m1lower</th><th scope=col>bty_m1upper</th><th scope=col>bty_m2upper</th><th scope=col>bty_avg</th><th scope=col>pic_outfit</th><th scope=col>pic_color</th></tr></thead>\n",
       "<tbody>\n",
       "\t<tr><td>4.7         </td><td>tenure track</td><td>minority    </td><td>female      </td><td>english     </td><td>36          </td><td>55.81395    </td><td>24          </td><td> 43         </td><td>upper       </td><td>...         </td><td>multi credit</td><td>5           </td><td>7           </td><td>6           </td><td>2           </td><td>4           </td><td>6           </td><td>5           </td><td>not formal  </td><td>color       </td></tr>\n",
       "\t<tr><td>4.1         </td><td>tenure track</td><td>minority    </td><td>female      </td><td>english     </td><td>36          </td><td>68.80000    </td><td>86          </td><td>125         </td><td>upper       </td><td>...         </td><td>multi credit</td><td>5           </td><td>7           </td><td>6           </td><td>2           </td><td>4           </td><td>6           </td><td>5           </td><td>not formal  </td><td>color       </td></tr>\n",
       "\t<tr><td>3.9         </td><td>tenure track</td><td>minority    </td><td>female      </td><td>english     </td><td>36          </td><td>60.80000    </td><td>76          </td><td>125         </td><td>upper       </td><td>...         </td><td>multi credit</td><td>5           </td><td>7           </td><td>6           </td><td>2           </td><td>4           </td><td>6           </td><td>5           </td><td>not formal  </td><td>color       </td></tr>\n",
       "\t<tr><td>4.8         </td><td>tenure track</td><td>minority    </td><td>female      </td><td>english     </td><td>36          </td><td>62.60163    </td><td>77          </td><td>123         </td><td>upper       </td><td>...         </td><td>multi credit</td><td>5           </td><td>7           </td><td>6           </td><td>2           </td><td>4           </td><td>6           </td><td>5           </td><td>not formal  </td><td>color       </td></tr>\n",
       "\t<tr><td>4.6         </td><td>tenured     </td><td>not minority</td><td>male        </td><td>english     </td><td>59          </td><td>85.00000    </td><td>17          </td><td> 20         </td><td>upper       </td><td>...         </td><td>multi credit</td><td>4           </td><td>4           </td><td>2           </td><td>2           </td><td>3           </td><td>3           </td><td>3           </td><td>not formal  </td><td>color       </td></tr>\n",
       "\t<tr><td>4.3         </td><td>tenured     </td><td>not minority</td><td>male        </td><td>english     </td><td>59          </td><td>87.50000    </td><td>35          </td><td> 40         </td><td>upper       </td><td>...         </td><td>multi credit</td><td>4           </td><td>4           </td><td>2           </td><td>2           </td><td>3           </td><td>3           </td><td>3           </td><td>not formal  </td><td>color       </td></tr>\n",
       "</tbody>\n",
       "</table>\n"
      ],
      "text/latex": [
       "\\begin{tabular}{r|lllllllllllllllllllll}\n",
       " score & rank & ethnicity & gender & language & age & cls\\_perc\\_eval & cls\\_did\\_eval & cls\\_students & cls\\_level & ... & cls\\_credits & bty\\_f1lower & bty\\_f1upper & bty\\_f2upper & bty\\_m1lower & bty\\_m1upper & bty\\_m2upper & bty\\_avg & pic\\_outfit & pic\\_color\\\\\n",
       "\\hline\n",
       "\t 4.7          & tenure track & minority     & female       & english      & 36           & 55.81395     & 24           &  43          & upper        & ...          & multi credit & 5            & 7            & 6            & 2            & 4            & 6            & 5            & not formal   & color       \\\\\n",
       "\t 4.1          & tenure track & minority     & female       & english      & 36           & 68.80000     & 86           & 125          & upper        & ...          & multi credit & 5            & 7            & 6            & 2            & 4            & 6            & 5            & not formal   & color       \\\\\n",
       "\t 3.9          & tenure track & minority     & female       & english      & 36           & 60.80000     & 76           & 125          & upper        & ...          & multi credit & 5            & 7            & 6            & 2            & 4            & 6            & 5            & not formal   & color       \\\\\n",
       "\t 4.8          & tenure track & minority     & female       & english      & 36           & 62.60163     & 77           & 123          & upper        & ...          & multi credit & 5            & 7            & 6            & 2            & 4            & 6            & 5            & not formal   & color       \\\\\n",
       "\t 4.6          & tenured      & not minority & male         & english      & 59           & 85.00000     & 17           &  20          & upper        & ...          & multi credit & 4            & 4            & 2            & 2            & 3            & 3            & 3            & not formal   & color       \\\\\n",
       "\t 4.3          & tenured      & not minority & male         & english      & 59           & 87.50000     & 35           &  40          & upper        & ...          & multi credit & 4            & 4            & 2            & 2            & 3            & 3            & 3            & not formal   & color       \\\\\n",
       "\\end{tabular}\n"
      ],
      "text/markdown": [
       "\n",
       "| score | rank | ethnicity | gender | language | age | cls_perc_eval | cls_did_eval | cls_students | cls_level | ... | cls_credits | bty_f1lower | bty_f1upper | bty_f2upper | bty_m1lower | bty_m1upper | bty_m2upper | bty_avg | pic_outfit | pic_color |\n",
       "|---|---|---|---|---|---|---|---|---|---|---|---|---|---|---|---|---|---|---|---|---|\n",
       "| 4.7          | tenure track | minority     | female       | english      | 36           | 55.81395     | 24           |  43          | upper        | ...          | multi credit | 5            | 7            | 6            | 2            | 4            | 6            | 5            | not formal   | color        |\n",
       "| 4.1          | tenure track | minority     | female       | english      | 36           | 68.80000     | 86           | 125          | upper        | ...          | multi credit | 5            | 7            | 6            | 2            | 4            | 6            | 5            | not formal   | color        |\n",
       "| 3.9          | tenure track | minority     | female       | english      | 36           | 60.80000     | 76           | 125          | upper        | ...          | multi credit | 5            | 7            | 6            | 2            | 4            | 6            | 5            | not formal   | color        |\n",
       "| 4.8          | tenure track | minority     | female       | english      | 36           | 62.60163     | 77           | 123          | upper        | ...          | multi credit | 5            | 7            | 6            | 2            | 4            | 6            | 5            | not formal   | color        |\n",
       "| 4.6          | tenured      | not minority | male         | english      | 59           | 85.00000     | 17           |  20          | upper        | ...          | multi credit | 4            | 4            | 2            | 2            | 3            | 3            | 3            | not formal   | color        |\n",
       "| 4.3          | tenured      | not minority | male         | english      | 59           | 87.50000     | 35           |  40          | upper        | ...          | multi credit | 4            | 4            | 2            | 2            | 3            | 3            | 3            | not formal   | color        |\n",
       "\n"
      ],
      "text/plain": [
       "  score rank         ethnicity    gender language age cls_perc_eval\n",
       "1 4.7   tenure track minority     female english  36  55.81395     \n",
       "2 4.1   tenure track minority     female english  36  68.80000     \n",
       "3 3.9   tenure track minority     female english  36  60.80000     \n",
       "4 4.8   tenure track minority     female english  36  62.60163     \n",
       "5 4.6   tenured      not minority male   english  59  85.00000     \n",
       "6 4.3   tenured      not minority male   english  59  87.50000     \n",
       "  cls_did_eval cls_students cls_level ... cls_credits  bty_f1lower bty_f1upper\n",
       "1 24            43          upper     ... multi credit 5           7          \n",
       "2 86           125          upper     ... multi credit 5           7          \n",
       "3 76           125          upper     ... multi credit 5           7          \n",
       "4 77           123          upper     ... multi credit 5           7          \n",
       "5 17            20          upper     ... multi credit 4           4          \n",
       "6 35            40          upper     ... multi credit 4           4          \n",
       "  bty_f2upper bty_m1lower bty_m1upper bty_m2upper bty_avg pic_outfit pic_color\n",
       "1 6           2           4           6           5       not formal color    \n",
       "2 6           2           4           6           5       not formal color    \n",
       "3 6           2           4           6           5       not formal color    \n",
       "4 6           2           4           6           5       not formal color    \n",
       "5 2           2           3           3           3       not formal color    \n",
       "6 2           2           3           3           3       not formal color    "
      ]
     },
     "metadata": {},
     "output_type": "display_data"
    }
   ],
   "source": [
    "head(evals)"
   ]
  },
  {
   "cell_type": "code",
   "execution_count": 76,
   "metadata": {},
   "outputs": [
    {
     "name": "stdout",
     "output_type": "stream",
     "text": [
      "tibble [463 x 21] (S3: tbl_df/tbl/data.frame)\n",
      " $ score        : num [1:463] 4.7 4.1 3.9 4.8 4.6 4.3 2.8 4.1 3.4 4.5 ...\n",
      " $ rank         : Factor w/ 3 levels \"teaching\",\"tenure track\",..: 2 2 2 2 3 3 3 3 3 3 ...\n",
      " $ ethnicity    : Factor w/ 2 levels \"minority\",\"not minority\": 1 1 1 1 2 2 2 2 2 2 ...\n",
      " $ gender       : Factor w/ 2 levels \"female\",\"male\": 1 1 1 1 2 2 2 2 2 1 ...\n",
      " $ language     : Factor w/ 2 levels \"english\",\"non-english\": 1 1 1 1 1 1 1 1 1 1 ...\n",
      " $ age          : int [1:463] 36 36 36 36 59 59 59 51 51 40 ...\n",
      " $ cls_perc_eval: num [1:463] 55.8 68.8 60.8 62.6 85 ...\n",
      " $ cls_did_eval : int [1:463] 24 86 76 77 17 35 39 55 111 40 ...\n",
      " $ cls_students : int [1:463] 43 125 125 123 20 40 44 55 195 46 ...\n",
      " $ cls_level    : Factor w/ 2 levels \"lower\",\"upper\": 2 2 2 2 2 2 2 2 2 2 ...\n",
      " $ cls_profs    : Factor w/ 2 levels \"multiple\",\"single\": 2 2 2 2 1 1 1 2 2 2 ...\n",
      " $ cls_credits  : Factor w/ 2 levels \"multi credit\",..: 1 1 1 1 1 1 1 1 1 1 ...\n",
      " $ bty_f1lower  : int [1:463] 5 5 5 5 4 4 4 5 5 2 ...\n",
      " $ bty_f1upper  : int [1:463] 7 7 7 7 4 4 4 2 2 5 ...\n",
      " $ bty_f2upper  : int [1:463] 6 6 6 6 2 2 2 5 5 4 ...\n",
      " $ bty_m1lower  : int [1:463] 2 2 2 2 2 2 2 2 2 3 ...\n",
      " $ bty_m1upper  : int [1:463] 4 4 4 4 3 3 3 3 3 3 ...\n",
      " $ bty_m2upper  : int [1:463] 6 6 6 6 3 3 3 3 3 2 ...\n",
      " $ bty_avg      : num [1:463] 5 5 5 5 3 ...\n",
      " $ pic_outfit   : Factor w/ 2 levels \"formal\",\"not formal\": 2 2 2 2 2 2 2 2 2 2 ...\n",
      " $ pic_color    : Factor w/ 2 levels \"black&white\",..: 2 2 2 2 2 2 2 2 2 2 ...\n"
     ]
    }
   ],
   "source": [
    "str(evals)"
   ]
  },
  {
   "cell_type": "code",
   "execution_count": 77,
   "metadata": {},
   "outputs": [
    {
     "name": "stdout",
     "output_type": "stream",
     "text": [
      "Rows: 463\n",
      "Columns: 21\n",
      "$ score         <dbl> 4.7, 4.1, 3.9, 4.8, 4.6, 4.3, 2.8, 4.1, 3.4, 4.5, 3.8...\n",
      "$ rank          <fct> tenure track, tenure track, tenure track, tenure trac...\n",
      "$ ethnicity     <fct> minority, minority, minority, minority, not minority,...\n",
      "$ gender        <fct> female, female, female, female, male, male, male, mal...\n",
      "$ language      <fct> english, english, english, english, english, english,...\n",
      "$ age           <int> 36, 36, 36, 36, 59, 59, 59, 51, 51, 40, 40, 40, 40, 4...\n",
      "$ cls_perc_eval <dbl> 55.81395, 68.80000, 60.80000, 62.60163, 85.00000, 87....\n",
      "$ cls_did_eval  <int> 24, 86, 76, 77, 17, 35, 39, 55, 111, 40, 24, 24, 17, ...\n",
      "$ cls_students  <int> 43, 125, 125, 123, 20, 40, 44, 55, 195, 46, 27, 25, 2...\n",
      "$ cls_level     <fct> upper, upper, upper, upper, upper, upper, upper, uppe...\n",
      "$ cls_profs     <fct> single, single, single, single, multiple, multiple, m...\n",
      "$ cls_credits   <fct> multi credit, multi credit, multi credit, multi credi...\n",
      "$ bty_f1lower   <int> 5, 5, 5, 5, 4, 4, 4, 5, 5, 2, 2, 2, 2, 2, 2, 2, 2, 7,...\n",
      "$ bty_f1upper   <int> 7, 7, 7, 7, 4, 4, 4, 2, 2, 5, 5, 5, 5, 5, 5, 5, 5, 9,...\n",
      "$ bty_f2upper   <int> 6, 6, 6, 6, 2, 2, 2, 5, 5, 4, 4, 4, 4, 4, 4, 4, 4, 9,...\n",
      "$ bty_m1lower   <int> 2, 2, 2, 2, 2, 2, 2, 2, 2, 3, 3, 3, 3, 3, 3, 3, 3, 7,...\n",
      "$ bty_m1upper   <int> 4, 4, 4, 4, 3, 3, 3, 3, 3, 3, 3, 3, 3, 3, 3, 3, 3, 6,...\n",
      "$ bty_m2upper   <int> 6, 6, 6, 6, 3, 3, 3, 3, 3, 2, 2, 2, 2, 2, 2, 2, 2, 6,...\n",
      "$ bty_avg       <dbl> 5.000, 5.000, 5.000, 5.000, 3.000, 3.000, 3.000, 3.33...\n",
      "$ pic_outfit    <fct> not formal, not formal, not formal, not formal, not f...\n",
      "$ pic_color     <fct> color, color, color, color, color, color, color, colo...\n"
     ]
    }
   ],
   "source": [
    "glimpse(evals)"
   ]
  },
  {
   "cell_type": "markdown",
   "metadata": {},
   "source": [
    "This is an observational study"
   ]
  },
  {
   "cell_type": "markdown",
   "metadata": {},
   "source": [
    "### Sampling / experimental attributes\n",
    "The data from this study were gathered by randomly sampling classes."
   ]
  },
  {
   "cell_type": "markdown",
   "metadata": {},
   "source": [
    "## Variables in the data\n"
   ]
  },
  {
   "cell_type": "code",
   "execution_count": 78,
   "metadata": {},
   "outputs": [
    {
     "name": "stdout",
     "output_type": "stream",
     "text": [
      "Rows: 463\n",
      "Columns: 21\n",
      "$ score         <dbl> 4.7, 4.1, 3.9, 4.8, 4.6, 4.3, 2.8, 4.1, 3.4, 4.5, 3.8...\n",
      "$ rank          <fct> tenure track, tenure track, tenure track, tenure trac...\n",
      "$ ethnicity     <fct> minority, minority, minority, minority, not minority,...\n",
      "$ gender        <fct> female, female, female, female, male, male, male, mal...\n",
      "$ language      <fct> english, english, english, english, english, english,...\n",
      "$ age           <int> 36, 36, 36, 36, 59, 59, 59, 51, 51, 40, 40, 40, 40, 4...\n",
      "$ cls_perc_eval <dbl> 55.81395, 68.80000, 60.80000, 62.60163, 85.00000, 87....\n",
      "$ cls_did_eval  <int> 24, 86, 76, 77, 17, 35, 39, 55, 111, 40, 24, 24, 17, ...\n",
      "$ cls_students  <int> 43, 125, 125, 123, 20, 40, 44, 55, 195, 46, 27, 25, 2...\n",
      "$ cls_level     <fct> upper, upper, upper, upper, upper, upper, upper, uppe...\n",
      "$ cls_profs     <fct> single, single, single, single, multiple, multiple, m...\n",
      "$ cls_credits   <fct> multi credit, multi credit, multi credit, multi credi...\n",
      "$ bty_f1lower   <int> 5, 5, 5, 5, 4, 4, 4, 5, 5, 2, 2, 2, 2, 2, 2, 2, 2, 7,...\n",
      "$ bty_f1upper   <int> 7, 7, 7, 7, 4, 4, 4, 2, 2, 5, 5, 5, 5, 5, 5, 5, 5, 9,...\n",
      "$ bty_f2upper   <int> 6, 6, 6, 6, 2, 2, 2, 5, 5, 4, 4, 4, 4, 4, 4, 4, 4, 9,...\n",
      "$ bty_m1lower   <int> 2, 2, 2, 2, 2, 2, 2, 2, 2, 3, 3, 3, 3, 3, 3, 3, 3, 7,...\n",
      "$ bty_m1upper   <int> 4, 4, 4, 4, 3, 3, 3, 3, 3, 3, 3, 3, 3, 3, 3, 3, 3, 6,...\n",
      "$ bty_m2upper   <int> 6, 6, 6, 6, 3, 3, 3, 3, 3, 2, 2, 2, 2, 2, 2, 2, 2, 6,...\n",
      "$ bty_avg       <dbl> 5.000, 5.000, 5.000, 5.000, 3.000, 3.000, 3.000, 3.33...\n",
      "$ pic_outfit    <fct> not formal, not formal, not formal, not formal, not f...\n",
      "$ pic_color     <fct> color, color, color, color, color, color, color, colo...\n"
     ]
    }
   ],
   "source": [
    "glimpse(evals)"
   ]
  },
  {
   "cell_type": "markdown",
   "metadata": {},
   "source": [
    "### Identify variable types\n",
    "\n",
    "It's always useful to start exploration of a dataset by identifying variable types. The results from this exercise will help design appropriate visualizations and calculate useful summary statistics later in analysis."
   ]
  },
  {
   "cell_type": "code",
   "execution_count": 79,
   "metadata": {},
   "outputs": [],
   "source": [
    "cat_vars <- c(\"rank\", \"ethnicity\", \"gender\", \"language\",\n",
    "              \"cls_level\", \"cls_profs\", \"cls_credits\",\n",
    "              \"pic_outfit\", \"pic_color\")"
   ]
  },
  {
   "cell_type": "markdown",
   "metadata": {},
   "source": [
    "### Recode a variable\n",
    "The `cls_students` variable in `evals` tells us the number of students in the class. Instead of the exact number of students, we're interested in whether the class is\n",
    "\n",
    "- `\"small\"` (18 students or fewer),\n",
    "- `\"midsize\"` (19 - 59 students), or\n",
    "- `\"large\"` (60 students or more)."
   ]
  },
  {
   "cell_type": "code",
   "execution_count": 80,
   "metadata": {},
   "outputs": [],
   "source": [
    "# Recode cls_students as cls_type\n",
    "evals_fortified <- evals %>%\n",
    "  mutate(\n",
    "    cls_type = case_when(\n",
    "      cls_students<=18 ~ \"small\",\n",
    "      cls_students >18 & cls_students<60 ~ \"midsize\",\n",
    "      cls_students>=60 ~ \"large\"\n",
    "    )\n",
    "  )"
   ]
  },
  {
   "cell_type": "markdown",
   "metadata": {},
   "source": [
    "### Create a scatterplot\n",
    "The `bty_avg` variable shows the average beauty rating of the professor by the six students who were asked to rate the attractiveness of these faculty. The `score` variable shows the average professor evaluation score, with 1 being _very unsatisfactory_ and 5 _being excellent_."
   ]
  },
  {
   "cell_type": "code",
   "execution_count": 81,
   "metadata": {},
   "outputs": [
    {
     "name": "stderr",
     "output_type": "stream",
     "text": [
      "`geom_smooth()` using formula 'y ~ x'\n"
     ]
    },
    {
     "data": {
      "image/png": "[encoded data removed]",
      "text/plain": [
       "plot without title"
      ]
     },
     "metadata": {},
     "output_type": "display_data"
    }
   ],
   "source": [
    "# Scatterplot of score vs. bty_avg\n",
    "ggplot(evals, aes(x=bty_avg, y=score)) +\n",
    "    geom_point() +\n",
    "    geom_smooth(method=\"lm\", se=F)"
   ]
  },
  {
   "cell_type": "markdown",
   "metadata": {},
   "source": [
    "### Create a scatterplot, with an added layer\n",
    "\n",
    "We are interested in evaluating how the relationship between a professor's attractiveness and their evaluation score varies across different class types (small, midsize, and large)."
   ]
  },
  {
   "cell_type": "code",
   "execution_count": 83,
   "metadata": {},
   "outputs": [
    {
     "name": "stderr",
     "output_type": "stream",
     "text": [
      "`geom_smooth()` using formula 'y ~ x'\n"
     ]
    },
    {
     "data": {
      "image/png": "[encoded data removed]",
      "text/plain": [
       "plot without title"
      ]
     },
     "metadata": {},
     "output_type": "display_data"
    }
   ],
   "source": [
    "# Scatterplot of score vs. bty_avg colored by cls_type\n",
    "ggplot(evals_fortified, aes(x=bty_avg,y=score, color=cls_type)) +\n",
    "    geom_point() +\n",
    "    geom_smooth(method=\"lm\", se=F)"
   ]
  }
 ],
 "metadata": {
  "kernelspec": {
   "display_name": "R",
   "language": "R",
   "name": "ir"
  },
  "language_info": {
   "codemirror_mode": "r",
   "file_extension": ".r",
   "mimetype": "text/x-r-source",
   "name": "R",
   "pygments_lexer": "r",
   "version": "3.6.1"
  }
 },
 "nbformat": 4,
 "nbformat_minor": 4
}
